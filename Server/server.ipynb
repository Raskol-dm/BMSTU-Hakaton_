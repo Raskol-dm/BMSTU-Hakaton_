{
 "metadata": {
  "language_info": {
   "codemirror_mode": {
    "name": "ipython",
    "version": 3
   },
   "file_extension": ".py",
   "mimetype": "text/x-python",
   "name": "python",
   "nbconvert_exporter": "python",
   "pygments_lexer": "ipython3",
   "version": "3.7.6-final"
  },
  "orig_nbformat": 2,
  "kernelspec": {
   "name": "python3",
   "display_name": "Python 3"
  }
 },
 "nbformat": 4,
 "nbformat_minor": 2,
 "cells": [
  {
   "cell_type": "code",
   "execution_count": null,
   "metadata": {},
   "outputs": [],
   "source": [
    "import os\n",
    "import subprocess\n",
    "from flask import Flask, flash, request, redirect, url_for, render_template\n",
    "from werkzeug.utils import secure_filename\n",
    "\n"
   ]
  },
  {
   "cell_type": "code",
   "execution_count": null,
   "metadata": {},
   "outputs": [],
   "source": [
    "UPLOAD_FOLDER = './static'"
   ]
  },
  {
   "cell_type": "code",
   "execution_count": null,
   "metadata": {},
   "outputs": [],
   "source": [
    "app = Flask(__name__)\n",
    "app.config['UPLOAD_FOLDER'] = UPLOAD_FOLDER\n",
    "\n",
    "@app.route('/', methods=['GET', 'POST'])\n",
    "def upload_file():\n",
    "    if request.method == 'POST':\n",
    "        if 'file' not in request.files:\n",
    "            flash('No file part')\n",
    "            return redirect(request.url)\n",
    "        file = request.files['file']\n",
    "        if file.filename == '':\n",
    "            flash('No selected file')\n",
    "            return redirect(request.url)\n",
    "        if file:\n",
    "            filename = secure_filename(file.filename)\n",
    "            file.save(os.path.join(app.config['UPLOAD_FOLDER'], filename))\n",
    "            # subprocess.call(\"./run_machine.sh\")\n",
    "            # subprocess.call(\"./return_marked.sh\")\n",
    "    #     files = os.listdir(\"./marked\")\n",
    "    #     print(len(files))\n",
    "    #     f = open(\"./templates/fon.html\", \"r+\")\n",
    "    #     f.seek(1323)\n",
    "    #     #s = \"<!DOCTYPE HTML><html><head><meta charset=utf-8><title>NONTOXIC</title> </head><body><table>\"\n",
    "    #     f.write(\"<table>\")\n",
    "    #     for  file in files:\n",
    "    #         f.write('<tr>')\n",
    "    #         f.write(\"<td>\" + '<img src=  \"./marked/' + file + '\"></td>')\n",
    "    #         f.write('</tr>')\n",
    "    #     f.write(\"</table>\")\n",
    "    #     f.seek(0,0)\n",
    "    #     print(f.read())\n",
    "    #     return render_template('fon.html')\n",
    "    # return render_template('fon.html')\n",
    "    return render_template('upload.html')\n",
    "\n",
    "\n",
    "if __name__ == \"__main__\":\n",
    "    app.run()"
   ]
  },
  {
   "cell_type": "code",
   "execution_count": null,
   "metadata": {},
   "outputs": [],
   "source": []
  }
 ]
}