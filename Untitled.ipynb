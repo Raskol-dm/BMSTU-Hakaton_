{
 "cells": [
  {
   "cell_type": "code",
   "execution_count": 1,
   "metadata": {},
   "outputs": [],
   "source": [
    " # data analysis and wrangling\n",
    "import pandas as pd\n",
    "import numpy as np\n",
    "import random as rnd\n",
    "\n",
    " # visualization\n",
    "import seaborn as sns\n",
    "import matplotlib.pyplot as plt\n",
    "%matplotlib inline"
   ]
  },
  {
   "cell_type": "code",
   "execution_count": 3,
   "metadata": {},
   "outputs": [],
   "source": [
    "train_df = pd.read_csv('train_longevity.csv')\n",
    "test_df = pd.read_csv('test_longevity.csv')\n",
    "combine = [train_df, test_df]"
   ]
  },
  {
   "cell_type": "code",
   "execution_count": 4,
   "metadata": {},
   "outputs": [
    {
     "name": "stdout",
     "output_type": "stream",
     "text": [
      "['Id' 'Longevity' 'Education' 'Sex' 'Age' 'Pet' 'Children' 'Region'\n",
      " 'Activity' 'MedExam' 'Sport']\n"
     ]
    },
    {
     "data": {
      "text/plain": [
       "['IdLongevityEducationSexAgePetChildrenRegionActivityMedExamSport']"
      ]
     },
     "execution_count": 4,
     "metadata": {},
     "output_type": "execute_result"
    }
   ],
   "source": [
    "print(train_df.columns.values)\n",
    "['Id' 'Longevity' 'Education' 'Sex' 'Age' 'Pet' 'Children' 'Region' 'Activity' 'MedExam' 'Sport']"
   ]
  },
  {
   "cell_type": "code",
   "execution_count": 7,
   "metadata": {},
   "outputs": [
    {
     "name": "stdout",
     "output_type": "stream",
     "text": [
      "['Id' 'Education' 'Sex' 'Age' 'Pet' 'Children' 'Region' 'Activity'\n",
      " 'MedExam' 'Sport' 'Longevity']\n"
     ]
    },
    {
     "data": {
      "text/plain": [
       "['IdEducationSexAgeActivitySportIsAloneAge*Education']"
      ]
     },
     "execution_count": 7,
     "metadata": {},
     "output_type": "execute_result"
    }
   ],
   "source": [
    "print(test_df.columns.values)\n",
    "['Id' 'Education' 'Sex' 'Age' 'Activity' 'Sport' 'IsAlone' 'Age*Education']"
   ]
  },
  {
   "cell_type": "code",
   "execution_count": 8,
   "metadata": {},
   "outputs": [
    {
     "name": "stdout",
     "output_type": "stream",
     "text": [
      "<class 'pandas.core.frame.DataFrame'>\n",
      "RangeIndex: 857 entries, 0 to 856\n",
      "Data columns (total 11 columns):\n",
      "Id           857 non-null int64\n",
      "Longevity    857 non-null int64\n",
      "Education    857 non-null int64\n",
      "Sex          857 non-null object\n",
      "Age          680 non-null object\n",
      "Pet          857 non-null int64\n",
      "Children     857 non-null int64\n",
      "Region       857 non-null object\n",
      "Activity     857 non-null int64\n",
      "MedExam      196 non-null object\n",
      "Sport        236 non-null object\n",
      "dtypes: int64(6), object(5)\n",
      "memory usage: 73.7+ KB\n"
     ]
    },
    {
     "data": {
      "text/plain": [
       "Id           857\n",
       "Longevity      2\n",
       "Education      3\n",
       "Sex            2\n",
       "Age           12\n",
       "Pet            7\n",
       "Children       7\n",
       "Region        51\n",
       "Activity     229\n",
       "MedExam        5\n",
       "Sport          2\n",
       "dtype: int64"
      ]
     },
     "execution_count": 8,
     "metadata": {},
     "output_type": "execute_result"
    }
   ],
   "source": [
    "train_df.shape      # мы увидим информацию о размерности нашего датафрейма \n",
    "train_df.info()     # покажет информацию о размерности данных \n",
    "                          # описание индекса, количество not-a-number элементов \n",
    "train_df.head()         # показывает первые 10 значений датасета\n",
    "train_df.describe()     # показывает статистики count,mean, std, min, 25%-50%-75% percentile, max \n",
    "train_df.nunique()     # количество уникальных значений для каждого столбца"
   ]
  }
 ],
 "metadata": {
  "kernelspec": {
   "display_name": "Python 3",
   "language": "python",
   "name": "python3"
  },
  "language_info": {
   "codemirror_mode": {
    "name": "ipython",
    "version": 3
   },
   "file_extension": ".py",
   "mimetype": "text/x-python",
   "name": "python",
   "nbconvert_exporter": "python",
   "pygments_lexer": "ipython3",
   "version": "3.7.3"
  }
 },
 "nbformat": 4,
 "nbformat_minor": 2
}
