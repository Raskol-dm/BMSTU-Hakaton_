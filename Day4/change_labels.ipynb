{
 "metadata": {
  "language_info": {
   "codemirror_mode": {
    "name": "ipython",
    "version": 3
   },
   "file_extension": ".py",
   "mimetype": "text/x-python",
   "name": "python",
   "nbconvert_exporter": "python",
   "pygments_lexer": "ipython3",
   "version": "3.7.6-final"
  },
  "orig_nbformat": 2,
  "kernelspec": {
   "name": "python3",
   "display_name": "Python 3"
  }
 },
 "nbformat": 4,
 "nbformat_minor": 2,
 "cells": [
  {
   "cell_type": "code",
   "execution_count": null,
   "metadata": {},
   "outputs": [],
   "source": [
    "from os import listdir\n",
    "from os.path import isfile, join\n",
    "from sklearn.model_selection import train_test_split\n",
    "from PIL import Image"
   ]
  },
  {
   "cell_type": "code",
   "execution_count": null,
   "metadata": {},
   "outputs": [],
   "source": [
    "img_path = './day4/PyTorch-YOLOv3/data/custom/images'\n",
    "lbl_path = './day4/PyTorch-YOLOv3/data/custom/labels'"
   ]
  },
  {
   "cell_type": "code",
   "execution_count": null,
   "metadata": {},
   "outputs": [],
   "source": [
    "img_abs = '/home/team02/day4/PyTorch-YOLOv3/data/custom/images/'\n",
    "lbl_abs = '/home/team02/day4/PyTorch-YOLOv3/data/custom/labels/'"
   ]
  },
  {
   "cell_type": "code",
   "execution_count": null,
   "metadata": {},
   "outputs": [],
   "source": [
    "img_dict_mas = [{'name': fname[:-4], 'width' : str(Image.open(join(img_abs, fname)).width), 'height': str(Image.open(join(img_abs, fname)).height)} for fname in listdir(img_path)]\n",
    "lbls = [join(lbl_abs, fname) for fname in listdir(lbl_path)]"
   ]
  },
  {
   "source": [
    "values represented in labels\n",
    " \n",
    " - class_number - __0__, src_min_x - __1__, src_min_y - __2__, src_max_x - __3__, src_max_y - __4__\n",
    "\n",
    "absolute_x = (float(src_max_x) + float(src_min_x)) / 2.0\n",
    "\n",
    "absolute_y = (float(src_max_y) + float(src_min_y)) / 2.0\n",
    "\n",
    "absolute_height = float(src_max_y) - float(src_min_y)\n",
    "\n",
    "absolute_width = float(src_max_x) - float(src_min_x)\n",
    "\n",
    "x_norm = absolute_x / image_width\n",
    "\n",
    "y_norm = absolute_y / image_height\n",
    "\n",
    "w_norm = absolute_width / image_width\n",
    "\n",
    "h_norm = absolute_height / image_height\n"
   ],
   "cell_type": "markdown",
   "metadata": {}
  },
  {
   "source": [
    "contents = []\n",
    "for im in img_dict_mas:\n",
    "    path = lbl_path + '/' + im['name'] + '.txt'\n",
    "    with open(path, 'r') as f:\n",
    "        content = f.read()\n",
    "        content = content.split()\n",
    "        cls_num = int(content[0])\n",
    "        width, height = float(im[\"width\"]), float(im[\"height\"])\n",
    "        xmin, ymin, xmax, ymax = float(content[1]), float(content[2]), float(content[3]), float(content[4])\n",
    "        absolute_x, absolute_y = (xmin + xmax) / 2.0, (ymin + ymax) / 2.0\n",
    "        absolute_w, absolute_h = xmax - xmin, ymax - ymin\n",
    "        x_norm = absolute_x / width\n",
    "        y_norm = absolute_y / height\n",
    "        w_norm = absolute_w / width\n",
    "        h_norm = absolute_h / height\n",
    "        content = ' '.join(str(x) for x in [cls_num, x_norm, y_norm, w_norm, h_norm])\n",
    "        contents.append({\"path\":path, \"content\":content})"
   ],
   "cell_type": "markdown",
   "metadata": {}
  },
  {
   "cell_type": "code",
   "execution_count": 99,
   "metadata": {
    "tags": []
   },
   "outputs": [
    {
     "output_type": "stream",
     "name": "stdout",
     "text": [
      "./day4/PyTorch-YOLOv3/data/custom/labels/10486b260c3178c7.txt\n"
     ]
    }
   ],
   "source": [
    "# print(contents[1][\"path\"])"
   ]
  },
  {
   "source": [
    "for file in contents:\n",
    "    with open(file[\"path\"], 'w') as f:\n",
    "        f.write(file[\"content\"])"
   ],
   "cell_type": "markdown",
   "metadata": {}
  },
  {
   "cell_type": "code",
   "execution_count": null,
   "metadata": {},
   "outputs": [],
   "source": []
  }
 ]
}