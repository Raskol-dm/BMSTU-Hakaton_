{
 "cells": [
  {
   "cell_type": "markdown",
   "metadata": {},
   "source": [
    "Иморт библиотек"
   ]
  },
  {
   "cell_type": "code",
   "execution_count": null,
   "metadata": {},
   "outputs": [],
   "source": [
    " # data analysis and wrangling\n",
    "import pandas as pd\n",
    "import numpy as np\n",
    "import random as rnd\n",
    "\n",
    " # visualization\n",
    "import seaborn as sns\n",
    "import matplotlib.pyplot as plt\n",
    "%matplotlib inline"
   ]
  },
  {
   "cell_type": "markdown",
   "metadata": {},
   "source": [
    "Загрузка таблиц"
   ]
  },
  {
   "cell_type": "code",
   "execution_count": null,
   "metadata": {},
   "outputs": [],
   "source": [
    "train_df = pd.read_csv('train_longevity.csv')\n",
    "test_df = pd.read_csv('test_longevity.csv')"
   ]
  },
  {
   "cell_type": "markdown",
   "metadata": {},
   "source": [
    "Рассмотрим вид загруженных таблиц"
   ]
  },
  {
   "cell_type": "code",
   "execution_count": null,
   "metadata": {},
   "outputs": [],
   "source": [
    "display(train_df.head())\n",
    "train_df.info()\n",
    "#display(test_df.head())\n",
    "#test_df.info()"
   ]
  },
  {
   "cell_type": "markdown",
   "metadata": {},
   "source": [
    "**В датасетах приведена следующая информация о пожилых людях (атрибуты объекта):**\n",
    "\n",
    "* Longevity - Класс активного долголетия: 1 - человек доживет до 90 лет; 0 - нет\n",
    "* Id - Идентификатор пожилого человека;\n",
    "* Education - Образование: 1 - высшее; 2 - среднее; 3 без образования;\n",
    "* Sex - Пол;\n",
    "* Age - Возраст;\n",
    "* Pet - Пожилой человек ухаживает за домашними животными: указано количество;\n",
    "* Children - Пожилой человек проживают с детьми/внуками/близкими родственниками: указано количество проживающих совместно в пожилым человеком;\n",
    "* Region - Регион проживания;\n",
    "* Activity - Уровень физической активности (количество шагов в день): данные получены от специального приложения;\n",
    "* MedExam - Посещение поликлиники (за послений год): кодирование посещений на основе заполненной медицинской карточки;\n",
    "* Sport - Физические упражнения: '+' пожилой человек занимается спортом (ходьба, бег, плаванье); '-' не занимается."
   ]
  },
  {
   "cell_type": "markdown",
   "metadata": {},
   "source": [
    "Пропущенные значения в поле `Age` не могут быть заполнены - удаляем их и приводим столбец к целочисленному типу."
   ]
  },
  {
   "cell_type": "code",
   "execution_count": null,
   "metadata": {},
   "outputs": [],
   "source": [
    "# Признак Age должен быть дополнен \n",
    "# и фильтрован для обработки алгоритмами.\n",
    "\n",
    "train_df['Age'].value_counts()\n",
    "train_df_clean = train_df.dropna(subset=['Age']).reset_index()\n",
    "train_df_clean = train_df_clean.query('Age != \"#ЗНАЧ!\"').copy(deep=True)\n",
    "train_df_clean['Age'] = train_df_clean['Age'].astype('int')\n",
    "\n",
    "test_df['Age'].value_counts()\n",
    "test_df_clean = test_df.dropna(subset=['Age']).reset_index()\n",
    "test_df_clean = test_df_clean.query('Age != \"#ЗНАЧ!\"').copy(deep=True)\n",
    "test_df_clean['Age'] = test_df_clean['Age'].astype('int')"
   ]
  },
  {
   "cell_type": "markdown",
   "metadata": {},
   "source": [
    "Дропаем ненужное, так как корреляция между параметрами и фактом долголетия маловероятна."
   ]
  },
  {
   "cell_type": "code",
   "execution_count": null,
   "metadata": {},
   "outputs": [],
   "source": [
    "# Produces error. Tables already clean\n",
    "#train_df_clean = train_df_clean.drop(['MedExam', 'Region', 'Id'], axis=1)\n",
    "#train_df_clean.head()\n",
    "#test_df_clean = test_df_clean.drop(['MedExam', 'Region', 'Id'], axis=1)\n",
    "#test_df_clean.head()"
   ]
  },
  {
   "cell_type": "markdown",
   "metadata": {},
   "source": [
    "Если у нас нет информации о том, занимается человек спортом или нет, мы заполняем пропущенные значения '-'."
   ]
  },
  {
   "cell_type": "code",
   "execution_count": null,
   "metadata": {},
   "outputs": [],
   "source": [
    "# Необходимо дополнить функцию Sport, \n",
    "# поскольку она также может соотноситься с долголетием.\n",
    "train_df_clean['Sport'] = train_df_clean['Sport'].fillna(value='-')\n",
    "#train_df_clean.head()\n",
    "\n",
    "test_df_clean['Sport'] = test_df_clean['Sport'].fillna(value='-')\n",
    "test_df_clean.head()"
   ]
  },
  {
   "cell_type": "markdown",
   "metadata": {},
   "source": [
    "Количество любящих единиц пожилого человека."
   ]
  },
  {
   "cell_type": "code",
   "execution_count": null,
   "metadata": {},
   "outputs": [],
   "source": [
    "# Cоздать новый признак под названием Family \n",
    "# (Семья на основе детей и домашних животных), \n",
    "# чтобы получить общее количество членов семьи.\n",
    "train_df_clean['Family'] = train_df_clean['Children'] + train_df_clean['Pet']\n",
    "test_df_clean['Family'] = test_df_clean['Children'] + test_df_clean['Pet']"
   ]
  },
  {
   "cell_type": "code",
   "execution_count": null,
   "metadata": {},
   "outputs": [],
   "source": [
    "#sns.barplot(data=train_df_clean, x='Family', y='Longevity')\n",
    "sns.barplot(data=test_df_clean, x='Family', y='Longevity')"
   ]
  },
  {
   "cell_type": "markdown",
   "metadata": {},
   "source": [
    "График может говорить о следующем: с ростом количества голов в семье количество долгожителей в группе увеличивается, однако по достижению критического количества социальная нагрузка (и уровень стресса) пожилого человека становится слишком большой - и количество долгожителей начинает уменьшаться. Однако, выводы преждевременные."
   ]
  },
  {
   "cell_type": "markdown",
   "metadata": {},
   "source": [
    "Признак: нет никого, кто любит пожилого человека."
   ]
  },
  {
   "cell_type": "code",
   "execution_count": null,
   "metadata": {},
   "outputs": [],
   "source": [
    "# Заздать новый признак IsAlone, \n",
    "# проживающих одиноко без домашних животных и родственников.\n",
    "train_df_clean['IsAlone'] = (train_df_clean['Family'] == 0)\n",
    "\n",
    "test_df_clean['IsAlone'] = (test_df_clean['Family'] == 0)"
   ]
  },
  {
   "cell_type": "markdown",
   "metadata": {},
   "source": [
    "Превращаем количественную переменную в категориальню - вводим порядковый номер диапазона возрастного равновесия."
   ]
  },
  {
   "cell_type": "code",
   "execution_count": null,
   "metadata": {},
   "outputs": [],
   "source": [
    "# Cоздать новый признак диапазонов возрасного равновесия \n",
    "# на основе признака Age, т.к. это поможет разделить пожилых \n",
    "# людей на группы условно равновесного состояния \n",
    "# (смертность повышается в определенные периоды времени \n",
    "# между 70 и 80 годами, и в другие моменты резко снижается) \n",
    "# для следующих интервалов: \n",
    "# { (...,70](70,72],(72,74],(74,76],(76,78],(80,..)}\n",
    "\n",
    "def age_range(age):\n",
    "    if (age <= 70):\n",
    "        return 1;\n",
    "    if (age <= 72):\n",
    "        return 2;\n",
    "    if (age <= 74):\n",
    "        return 3;\n",
    "    if (age <= 76):\n",
    "        return 4;\n",
    "    if (age <= 78):\n",
    "        return 5;\n",
    "    return 6;\n",
    "    \n",
    "train_df_clean['Age_range'] = train_df_clean['Age'].apply(age_range)\n",
    "test_df_clean['Age_range'] = test_df_clean['Age'].apply(age_range)"
   ]
  },
  {
   "cell_type": "code",
   "execution_count": null,
   "metadata": {},
   "outputs": [],
   "source": [
    "#sns.barplot(data=train_df_clean, x='Age_range', y='Longevity')\n",
    "sns.barplot(data=test_df_clean, x='Age_range', y='Longevity')"
   ]
  },
  {
   "cell_type": "markdown",
   "metadata": {},
   "source": [
    "Из графика видно, что количество долгожителей обратно пропорционально порядковому номеру равновесной возрастной группы. Иначе говоря, смертность увеличивается с ростом возраста."
   ]
  },
  {
   "cell_type": "code",
   "execution_count": null,
   "metadata": {},
   "outputs": [],
   "source": [
    "# Cоздать новый признак для возрастных групп (Age,Education), \n",
    "# указывающий на социальный статус пожилого человека. \n",
    "# Это превращает непрерывный числовой признак в порядковый \n",
    "# категориальный признак.\n",
    "\n",
    "train_df_clean['Social_status'] = train_df_clean['Age_range'] * train_df_clean['Education']\n",
    "test_df_clean['Social_status'] = test_df_clean['Age_range'] * test_df_clean['Education']"
   ]
  },
  {
   "cell_type": "code",
   "execution_count": null,
   "metadata": {},
   "outputs": [],
   "source": [
    "#sns.barplot(data=train_df_clean, x='Social_status', y='Longevity')\n",
    "sns.barplot(data=test_df_clean, x='Social_status', y='Longevity')"
   ]
  },
  {
   "cell_type": "markdown",
   "metadata": {},
   "source": [
    "Социальный статус - произведение возраста на образование, упорядочивает пожилых людей по снижению дееспособности и снижению квалификации, по типу (дееспособные, квалифицированные), (недееспособные, квалифицированные), (недееспособные, неквалифицированные) c **увеличением** параметра social_status.  \n",
    "Из графика наблюдается общая тендеция к снижению количества долгожителей с ухудшением социального статуса."
   ]
  },
  {
   "cell_type": "markdown",
   "metadata": {},
   "source": [
    "Приведем поле `sport` к целочисленному значению для упрощения дальнейшей работы."
   ]
  },
  {
   "cell_type": "code",
   "execution_count": null,
   "metadata": {},
   "outputs": [],
   "source": [
    "train_df_clean['Sport'] = (train_df_clean['Sport'] == '+').astype('int')\n",
    "test_df_clean['Sport'] = (test_df_clean['Sport'] == '+').astype('int')"
   ]
  },
  {
   "cell_type": "markdown",
   "metadata": {},
   "source": [
    "Рассмотрим итоговую таблицу."
   ]
  },
  {
   "cell_type": "code",
   "execution_count": null,
   "metadata": {},
   "outputs": [],
   "source": [
    "#display(train_df_clean.head())\n",
    "#train_df_clean.info()\n",
    "display(test_df_clean.head())\n",
    "test_df_clean.info()"
   ]
  },
  {
   "cell_type": "markdown",
   "metadata": {},
   "source": [
    "Сохраним готовый датафрейм в csv-файл"
   ]
  },
  {
   "cell_type": "code",
   "execution_count": 24,
   "metadata": {},
   "outputs": [],
   "source": [
    "#file = open(\"Day2_df.csv\", 'w', encoding = 'utf-8', newline = '')\n",
    "#type(train_df_clean) # Type is pandas.DataFrame; So, we can use the following method\n",
    "#train_df_clean.to_csv(file)\n",
    "file = open(\"Day2_test.csv\", 'w', encoding = 'utf-8', newline = '')\n",
    "test_df_clean.to_csv(file)\n",
    "test_df_clean.to_csv(file)\n",
    "file.close()\n"
   ]
  },
  {
   "cell_type": "code",
   "execution_count": null,
   "metadata": {},
   "outputs": [],
   "source": []
  }
 ],
 "metadata": {
  "kernelspec": {
   "display_name": "Python 3",
   "language": "python",
   "name": "python3"
  },
  "language_info": {
   "codemirror_mode": {
    "name": "ipython",
    "version": 3
   },
   "file_extension": ".py",
   "mimetype": "text/x-python",
   "name": "python",
   "nbconvert_exporter": "python",
   "pygments_lexer": "ipython3",
   "version": "3.8.1-final"
  }
 },
 "nbformat": 4,
 "nbformat_minor": 2
}