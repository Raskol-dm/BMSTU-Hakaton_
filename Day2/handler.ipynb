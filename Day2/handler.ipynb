{
 "cells": [
  {
   "cell_type": "code",
   "execution_count": 9,
   "metadata": {},
   "outputs": [],
   "source": [
    " # data analysis and wrangling\n",
    "import pandas as pd\n",
    "import numpy as np\n",
    "import random as rnd\n",
    "\n",
    " # visualization\n",
    "import seaborn as sns\n",
    "import matplotlib.pyplot as plt\n",
    "%matplotlib inline"
   ]
  },
  {
   "cell_type": "code",
   "execution_count": 3,
   "metadata": {},
   "outputs": [],
   "source": [
    "train_df = pd.read_csv('train_longevity.csv')\n",
    "test_df = pd.read_csv('test_longevity.csv')\n",
    "combine = [train_df, test_df]"
   ]
  },
  {
   "cell_type": "code",
   "execution_count": 4,
   "metadata": {},
   "outputs": [
    {
     "name": "stdout",
     "output_type": "stream",
     "text": [
      "['Id' 'Longevity' 'Education' 'Sex' 'Age' 'Pet' 'Children' 'Region'\n",
      " 'Activity' 'MedExam' 'Sport']\n"
     ]
    },
    {
     "data": {
      "text/plain": [
       "['IdLongevityEducationSexAgePetChildrenRegionActivityMedExamSport']"
      ]
     },
     "execution_count": 4,
     "metadata": {},
     "output_type": "execute_result"
    }
   ],
   "source": [
    "print(train_df.columns.values)\n",
    "#['Id' 'Longevity' 'Education' 'Sex' 'Age' 'Pet' 'Children' 'Region' 'Activity' 'MedExam' 'Sport']"
   ]
  },
  {
   "cell_type": "code",
   "execution_count": 5,
   "metadata": {},
   "outputs": [
    {
     "name": "stdout",
     "output_type": "stream",
     "text": [
      "['Id' 'Education' 'Sex' 'Age' 'Pet' 'Children' 'Region' 'Activity'\n",
      " 'MedExam' 'Sport' 'Longevity']\n"
     ]
    }
   ],
   "source": [
    "print(test_df.columns.values)\n",
    "#['Id' 'Education' 'Sex' 'Age' 'Activity' 'Sport' 'IsAlone' 'Age*Education']"
   ]
  },
  {
   "cell_type": "code",
   "execution_count": 8,
   "metadata": {},
   "outputs": [
    {
     "data": {
      "text/plain": [
       "(857, 11)"
      ]
     },
     "execution_count": 8,
     "metadata": {},
     "output_type": "execute_result"
    }
   ],
   "source": [
    "train_df.shape      # мы увидим информацию о размерности нашего датафрейма \n"
   ]
  },
  {
   "cell_type": "code",
   "execution_count": 10,
   "metadata": {},
   "outputs": [
    {
     "data": {
      "text/html": [
       "<div>\n",
       "<style scoped>\n",
       "    .dataframe tbody tr th:only-of-type {\n",
       "        vertical-align: middle;\n",
       "    }\n",
       "\n",
       "    .dataframe tbody tr th {\n",
       "        vertical-align: top;\n",
       "    }\n",
       "\n",
       "    .dataframe thead th {\n",
       "        text-align: right;\n",
       "    }\n",
       "</style>\n",
       "<table border=\"1\" class=\"dataframe\">\n",
       "  <thead>\n",
       "    <tr style=\"text-align: right;\">\n",
       "      <th></th>\n",
       "      <th>Id</th>\n",
       "      <th>Longevity</th>\n",
       "      <th>Education</th>\n",
       "      <th>Sex</th>\n",
       "      <th>Age</th>\n",
       "      <th>Pet</th>\n",
       "      <th>Children</th>\n",
       "      <th>Region</th>\n",
       "      <th>Activity</th>\n",
       "      <th>MedExam</th>\n",
       "      <th>Sport</th>\n",
       "    </tr>\n",
       "  </thead>\n",
       "  <tbody>\n",
       "    <tr>\n",
       "      <th>0</th>\n",
       "      <td>1</td>\n",
       "      <td>0</td>\n",
       "      <td>3</td>\n",
       "      <td>female</td>\n",
       "      <td>73</td>\n",
       "      <td>1</td>\n",
       "      <td>0</td>\n",
       "      <td>21</td>\n",
       "      <td>725</td>\n",
       "      <td>NaN</td>\n",
       "      <td>NaN</td>\n",
       "    </tr>\n",
       "    <tr>\n",
       "      <th>1</th>\n",
       "      <td>2</td>\n",
       "      <td>1</td>\n",
       "      <td>1</td>\n",
       "      <td>male</td>\n",
       "      <td>75</td>\n",
       "      <td>1</td>\n",
       "      <td>0</td>\n",
       "      <td>17</td>\n",
       "      <td>7128</td>\n",
       "      <td>+</td>\n",
       "      <td>+</td>\n",
       "    </tr>\n",
       "    <tr>\n",
       "      <th>2</th>\n",
       "      <td>3</td>\n",
       "      <td>1</td>\n",
       "      <td>3</td>\n",
       "      <td>male</td>\n",
       "      <td>73</td>\n",
       "      <td>0</td>\n",
       "      <td>0</td>\n",
       "      <td>31</td>\n",
       "      <td>793</td>\n",
       "      <td>NaN</td>\n",
       "      <td>NaN</td>\n",
       "    </tr>\n",
       "    <tr>\n",
       "      <th>3</th>\n",
       "      <td>4</td>\n",
       "      <td>1</td>\n",
       "      <td>1</td>\n",
       "      <td>male</td>\n",
       "      <td>74</td>\n",
       "      <td>1</td>\n",
       "      <td>0</td>\n",
       "      <td>11</td>\n",
       "      <td>5310</td>\n",
       "      <td>+</td>\n",
       "      <td>NaN</td>\n",
       "    </tr>\n",
       "    <tr>\n",
       "      <th>4</th>\n",
       "      <td>5</td>\n",
       "      <td>0</td>\n",
       "      <td>3</td>\n",
       "      <td>female</td>\n",
       "      <td>74</td>\n",
       "      <td>0</td>\n",
       "      <td>0</td>\n",
       "      <td>37</td>\n",
       "      <td>805</td>\n",
       "      <td>NaN</td>\n",
       "      <td>NaN</td>\n",
       "    </tr>\n",
       "  </tbody>\n",
       "</table>\n",
       "</div>"
      ],
      "text/plain": [
       "   Id  Longevity  Education     Sex Age  Pet  Children Region  Activity  \\\n",
       "0   1          0          3  female  73    1         0     21       725   \n",
       "1   2          1          1    male  75    1         0     17      7128   \n",
       "2   3          1          3    male  73    0         0     31       793   \n",
       "3   4          1          1    male  74    1         0     11      5310   \n",
       "4   5          0          3  female  74    0         0     37       805   \n",
       "\n",
       "  MedExam Sport  \n",
       "0     NaN   NaN  \n",
       "1       +     +  \n",
       "2     NaN   NaN  \n",
       "3       +   NaN  \n",
       "4     NaN   NaN  "
      ]
     },
     "execution_count": 10,
     "metadata": {},
     "output_type": "execute_result"
    }
   ],
   "source": [
    "train_df.head()         # показывает первые 10 значений датасета\n",
    "  "
   ]
  },
  {
   "cell_type": "code",
   "execution_count": 11,
   "metadata": {},
   "outputs": [
    {
     "data": {
      "text/html": [
       "<div>\n",
       "<style scoped>\n",
       "    .dataframe tbody tr th:only-of-type {\n",
       "        vertical-align: middle;\n",
       "    }\n",
       "\n",
       "    .dataframe tbody tr th {\n",
       "        vertical-align: top;\n",
       "    }\n",
       "\n",
       "    .dataframe thead th {\n",
       "        text-align: right;\n",
       "    }\n",
       "</style>\n",
       "<table border=\"1\" class=\"dataframe\">\n",
       "  <thead>\n",
       "    <tr style=\"text-align: right;\">\n",
       "      <th></th>\n",
       "      <th>Id</th>\n",
       "      <th>Longevity</th>\n",
       "      <th>Education</th>\n",
       "      <th>Pet</th>\n",
       "      <th>Children</th>\n",
       "      <th>Activity</th>\n",
       "    </tr>\n",
       "  </thead>\n",
       "  <tbody>\n",
       "    <tr>\n",
       "      <th>count</th>\n",
       "      <td>857.000000</td>\n",
       "      <td>857.000000</td>\n",
       "      <td>857.000000</td>\n",
       "      <td>857.000000</td>\n",
       "      <td>857.000000</td>\n",
       "      <td>857.000000</td>\n",
       "    </tr>\n",
       "    <tr>\n",
       "      <th>mean</th>\n",
       "      <td>429.000000</td>\n",
       "      <td>0.383897</td>\n",
       "      <td>2.309218</td>\n",
       "      <td>0.525088</td>\n",
       "      <td>0.378063</td>\n",
       "      <td>3267.183197</td>\n",
       "    </tr>\n",
       "    <tr>\n",
       "      <th>std</th>\n",
       "      <td>247.538886</td>\n",
       "      <td>0.486617</td>\n",
       "      <td>0.836560</td>\n",
       "      <td>1.089302</td>\n",
       "      <td>0.793893</td>\n",
       "      <td>5048.489704</td>\n",
       "    </tr>\n",
       "    <tr>\n",
       "      <th>min</th>\n",
       "      <td>1.000000</td>\n",
       "      <td>0.000000</td>\n",
       "      <td>1.000000</td>\n",
       "      <td>0.000000</td>\n",
       "      <td>0.000000</td>\n",
       "      <td>0.000000</td>\n",
       "    </tr>\n",
       "    <tr>\n",
       "      <th>25%</th>\n",
       "      <td>215.000000</td>\n",
       "      <td>0.000000</td>\n",
       "      <td>2.000000</td>\n",
       "      <td>0.000000</td>\n",
       "      <td>0.000000</td>\n",
       "      <td>793.000000</td>\n",
       "    </tr>\n",
       "    <tr>\n",
       "      <th>50%</th>\n",
       "      <td>429.000000</td>\n",
       "      <td>0.000000</td>\n",
       "      <td>3.000000</td>\n",
       "      <td>0.000000</td>\n",
       "      <td>0.000000</td>\n",
       "      <td>1446.000000</td>\n",
       "    </tr>\n",
       "    <tr>\n",
       "      <th>75%</th>\n",
       "      <td>643.000000</td>\n",
       "      <td>1.000000</td>\n",
       "      <td>3.000000</td>\n",
       "      <td>1.000000</td>\n",
       "      <td>0.000000</td>\n",
       "      <td>3128.000000</td>\n",
       "    </tr>\n",
       "    <tr>\n",
       "      <th>max</th>\n",
       "      <td>857.000000</td>\n",
       "      <td>1.000000</td>\n",
       "      <td>3.000000</td>\n",
       "      <td>8.000000</td>\n",
       "      <td>6.000000</td>\n",
       "      <td>51233.000000</td>\n",
       "    </tr>\n",
       "  </tbody>\n",
       "</table>\n",
       "</div>"
      ],
      "text/plain": [
       "               Id   Longevity   Education         Pet    Children  \\\n",
       "count  857.000000  857.000000  857.000000  857.000000  857.000000   \n",
       "mean   429.000000    0.383897    2.309218    0.525088    0.378063   \n",
       "std    247.538886    0.486617    0.836560    1.089302    0.793893   \n",
       "min      1.000000    0.000000    1.000000    0.000000    0.000000   \n",
       "25%    215.000000    0.000000    2.000000    0.000000    0.000000   \n",
       "50%    429.000000    0.000000    3.000000    0.000000    0.000000   \n",
       "75%    643.000000    1.000000    3.000000    1.000000    0.000000   \n",
       "max    857.000000    1.000000    3.000000    8.000000    6.000000   \n",
       "\n",
       "           Activity  \n",
       "count    857.000000  \n",
       "mean    3267.183197  \n",
       "std     5048.489704  \n",
       "min        0.000000  \n",
       "25%      793.000000  \n",
       "50%     1446.000000  \n",
       "75%     3128.000000  \n",
       "max    51233.000000  "
      ]
     },
     "execution_count": 11,
     "metadata": {},
     "output_type": "execute_result"
    }
   ],
   "source": [
    "train_df.describe()     # показывает статистики count,mean, std, min, 25%-50%-75% percentile, max "
   ]
  },
  {
   "cell_type": "code",
   "execution_count": 12,
   "metadata": {},
   "outputs": [
    {
     "data": {
      "text/plain": [
       "Id           857\n",
       "Longevity      2\n",
       "Education      3\n",
       "Sex            2\n",
       "Age           12\n",
       "Pet            7\n",
       "Children       7\n",
       "Region        51\n",
       "Activity     229\n",
       "MedExam        5\n",
       "Sport          2\n",
       "dtype: int64"
      ]
     },
     "execution_count": 12,
     "metadata": {},
     "output_type": "execute_result"
    }
   ],
   "source": [
    "train_df.nunique()  "
   ]
  },
  {
   "cell_type": "code",
   "execution_count": 13,
   "metadata": {},
   "outputs": [
    {
     "name": "stdout",
     "output_type": "stream",
     "text": [
      "Id\n",
      "857    1\n",
      "294    1\n",
      "292    1\n",
      "291    1\n",
      "290    1\n",
      "289    1\n",
      "288    1\n",
      "287    1\n",
      "286    1\n",
      "285    1\n",
      "284    1\n",
      "283    1\n",
      "282    1\n",
      "281    1\n",
      "280    1\n",
      "279    1\n",
      "278    1\n",
      "277    1\n",
      "276    1\n",
      "275    1\n",
      "274    1\n",
      "273    1\n",
      "272    1\n",
      "271    1\n",
      "270    1\n",
      "293    1\n",
      "295    1\n",
      "268    1\n",
      "296    1\n",
      "319    1\n",
      "      ..\n",
      "540    1\n",
      "539    1\n",
      "538    1\n",
      "561    1\n",
      "562    1\n",
      "563    1\n",
      "576    1\n",
      "586    1\n",
      "585    1\n",
      "584    1\n",
      "583    1\n",
      "582    1\n",
      "581    1\n",
      "580    1\n",
      "579    1\n",
      "578    1\n",
      "577    1\n",
      "575    1\n",
      "564    1\n",
      "574    1\n",
      "573    1\n",
      "572    1\n",
      "571    1\n",
      "570    1\n",
      "569    1\n",
      "568    1\n",
      "567    1\n",
      "566    1\n",
      "565    1\n",
      "1      1\n",
      "Name: Id, Length: 857, dtype: int64\n",
      "Longevity\n",
      "0    528\n",
      "1    329\n",
      "Name: Longevity, dtype: int64\n",
      "Education\n",
      "3    473\n",
      "1    208\n",
      "2    176\n",
      "Name: Education, dtype: int64\n",
      "Sex\n",
      "female    557\n",
      "male      300\n",
      "Name: Sex, dtype: int64\n",
      "Age\n",
      "NaN       177\n",
      "73        162\n",
      "74        154\n",
      "72         93\n",
      "75         90\n",
      "76         63\n",
      "71         37\n",
      "77         30\n",
      "70         24\n",
      "78         19\n",
      "79          6\n",
      "#ЗНАЧ!      1\n",
      "80          1\n",
      "Name: Age, dtype: int64\n",
      "Pet\n",
      "0    582\n",
      "1    203\n",
      "2     27\n",
      "4     18\n",
      "3     16\n",
      "8      6\n",
      "5      5\n",
      "Name: Pet, dtype: int64\n",
      "Children\n",
      "0    652\n",
      "1    114\n",
      "2     78\n",
      "5      4\n",
      "4      4\n",
      "3      4\n",
      "6      1\n",
      "Name: Children, dtype: int64\n",
      "Region\n",
      "34             131\n",
      "11              85\n",
      "17              74\n",
      "31              69\n",
      "26              60\n",
      "36              46\n",
      "23              43\n",
      "24              32\n",
      "35              29\n",
      "37              26\n",
      "33              24\n",
      "21              23\n",
      "29              18\n",
      "13              17\n",
      "19              16\n",
      "25              14\n",
      "28              13\n",
      "39              13\n",
      "14              13\n",
      "16              10\n",
      "41               9\n",
      "22               9\n",
      "75               9\n",
      "38               9\n",
      "66               6\n",
      "12               5\n",
      "LINE             4\n",
      "27               4\n",
      "54               4\n",
      "65               4\n",
      "57               4\n",
      "32               4\n",
      "20               4\n",
      "70               3\n",
      "18               2\n",
      "84               2\n",
      "S.O./P.P. 3      2\n",
      "95               2\n",
      "48               2\n",
      "45               2\n",
      "85               1\n",
      "40               1\n",
      "62               1\n",
      "69               1\n",
      "10               1\n",
      "72               1\n",
      "15               1\n",
      "55               1\n",
      "43               1\n",
      "30               1\n",
      "92               1\n",
      "Name: Region, dtype: int64\n",
      "Activity\n",
      "805     43\n",
      "1300    39\n",
      "790     34\n",
      "775     33\n",
      "2600    30\n",
      "723     25\n",
      "1050    23\n",
      "793     18\n",
      "778     16\n",
      "0       15\n",
      "2655    14\n",
      "725     13\n",
      "785     13\n",
      "866     13\n",
      "1610     9\n",
      "705      9\n",
      "950      8\n",
      "1550     8\n",
      "2415     8\n",
      "3128     7\n",
      "5650     7\n",
      "1450     7\n",
      "1445     7\n",
      "5200     7\n",
      "780      7\n",
      "3969     6\n",
      "2100     6\n",
      "4690     6\n",
      "2625     6\n",
      "2790     6\n",
      "        ..\n",
      "830      1\n",
      "4710     1\n",
      "1600     1\n",
      "6138     1\n",
      "2628     1\n",
      "1200     1\n",
      "3500     1\n",
      "3940     1\n",
      "811      1\n",
      "1288     1\n",
      "6118     1\n",
      "3350     1\n",
      "2345     1\n",
      "1342     1\n",
      "3402     1\n",
      "2400     1\n",
      "1379     1\n",
      "7525     1\n",
      "1386     1\n",
      "695      1\n",
      "731      1\n",
      "1400     1\n",
      "752      1\n",
      "3465     1\n",
      "401      1\n",
      "1740     1\n",
      "714      1\n",
      "3850     1\n",
      "5544     1\n",
      "763      1\n",
      "Name: Activity, Length: 229, dtype: int64\n",
      "MedExam\n",
      "NaN        661\n",
      "+          172\n",
      "+ +         16\n",
      "+ + +        5\n",
      "+ + + +      2\n",
      "T            1\n",
      "Name: MedExam, dtype: int64\n",
      "Sport\n",
      "NaN    621\n",
      "+      161\n",
      "-       75\n",
      "Name: Sport, dtype: int64\n"
     ]
    }
   ],
   "source": [
    "feature_names = train_df.columns.tolist() \n",
    "for column in feature_names: \n",
    "    print (column) \n",
    "    print (train_df[column].value_counts(dropna=False))"
   ]
  },
  {
   "cell_type": "code",
   "execution_count": 14,
   "metadata": {},
   "outputs": [
    {
     "name": "stdout",
     "output_type": "stream",
     "text": [
      "<class 'pandas.core.frame.DataFrame'>\n",
      "RangeIndex: 857 entries, 0 to 856\n",
      "Data columns (total 11 columns):\n",
      "Id           857 non-null int64\n",
      "Longevity    857 non-null int64\n",
      "Education    857 non-null int64\n",
      "Sex          857 non-null object\n",
      "Age          680 non-null object\n",
      "Pet          857 non-null int64\n",
      "Children     857 non-null int64\n",
      "Region       857 non-null object\n",
      "Activity     857 non-null int64\n",
      "MedExam      196 non-null object\n",
      "Sport        236 non-null object\n",
      "dtypes: int64(6), object(5)\n",
      "memory usage: 73.7+ KB\n",
      "________________________________________\n",
      "<class 'pandas.core.frame.DataFrame'>\n",
      "RangeIndex: 452 entries, 0 to 451\n",
      "Data columns (total 11 columns):\n",
      "Id           452 non-null int64\n",
      "Education    452 non-null int64\n",
      "Sex          452 non-null object\n",
      "Age          359 non-null object\n",
      "Pet          452 non-null int64\n",
      "Children     452 non-null int64\n",
      "Region       450 non-null float64\n",
      "Activity     452 non-null int64\n",
      "MedExam      99 non-null object\n",
      "Sport        157 non-null object\n",
      "Longevity    452 non-null int64\n",
      "dtypes: float64(1), int64(6), object(4)\n",
      "memory usage: 38.9+ KB\n"
     ]
    }
   ],
   "source": [
    "train_df.info()\n",
    "print('_'*40)\n",
    "test_df.info()"
   ]
  },
  {
   "cell_type": "code",
   "execution_count": 15,
   "metadata": {},
   "outputs": [
    {
     "data": {
      "text/html": [
       "<div>\n",
       "<style scoped>\n",
       "    .dataframe tbody tr th:only-of-type {\n",
       "        vertical-align: middle;\n",
       "    }\n",
       "\n",
       "    .dataframe tbody tr th {\n",
       "        vertical-align: top;\n",
       "    }\n",
       "\n",
       "    .dataframe thead th {\n",
       "        text-align: right;\n",
       "    }\n",
       "</style>\n",
       "<table border=\"1\" class=\"dataframe\">\n",
       "  <thead>\n",
       "    <tr style=\"text-align: right;\">\n",
       "      <th></th>\n",
       "      <th>Education</th>\n",
       "      <th>Longevity</th>\n",
       "    </tr>\n",
       "  </thead>\n",
       "  <tbody>\n",
       "    <tr>\n",
       "      <th>0</th>\n",
       "      <td>1</td>\n",
       "      <td>0.625000</td>\n",
       "    </tr>\n",
       "    <tr>\n",
       "      <th>1</th>\n",
       "      <td>2</td>\n",
       "      <td>0.471591</td>\n",
       "    </tr>\n",
       "    <tr>\n",
       "      <th>2</th>\n",
       "      <td>3</td>\n",
       "      <td>0.245243</td>\n",
       "    </tr>\n",
       "  </tbody>\n",
       "</table>\n",
       "</div>"
      ],
      "text/plain": [
       "   Education  Longevity\n",
       "0          1   0.625000\n",
       "1          2   0.471591\n",
       "2          3   0.245243"
      ]
     },
     "execution_count": 15,
     "metadata": {},
     "output_type": "execute_result"
    }
   ],
   "source": [
    "train_df[['Education', 'Longevity']].groupby(['Education'], as_index=False).mean().sort_values(by='Longevity', ascending=False)"
   ]
  },
  {
   "cell_type": "code",
   "execution_count": 16,
   "metadata": {},
   "outputs": [
    {
     "data": {
      "text/html": [
       "<div>\n",
       "<style scoped>\n",
       "    .dataframe tbody tr th:only-of-type {\n",
       "        vertical-align: middle;\n",
       "    }\n",
       "\n",
       "    .dataframe tbody tr th {\n",
       "        vertical-align: top;\n",
       "    }\n",
       "\n",
       "    .dataframe thead th {\n",
       "        text-align: right;\n",
       "    }\n",
       "</style>\n",
       "<table border=\"1\" class=\"dataframe\">\n",
       "  <thead>\n",
       "    <tr style=\"text-align: right;\">\n",
       "      <th></th>\n",
       "      <th>Sex</th>\n",
       "      <th>Longevity</th>\n",
       "    </tr>\n",
       "  </thead>\n",
       "  <tbody>\n",
       "    <tr>\n",
       "      <th>1</th>\n",
       "      <td>male</td>\n",
       "      <td>0.743333</td>\n",
       "    </tr>\n",
       "    <tr>\n",
       "      <th>0</th>\n",
       "      <td>female</td>\n",
       "      <td>0.190305</td>\n",
       "    </tr>\n",
       "  </tbody>\n",
       "</table>\n",
       "</div>"
      ],
      "text/plain": [
       "      Sex  Longevity\n",
       "1    male   0.743333\n",
       "0  female   0.190305"
      ]
     },
     "execution_count": 16,
     "metadata": {},
     "output_type": "execute_result"
    }
   ],
   "source": [
    "train_df[['Sex', 'Longevity']].groupby(['Sex'], as_index=False).mean().sort_values(by='Longevity', ascending=False)"
   ]
  },
  {
   "cell_type": "code",
   "execution_count": 17,
   "metadata": {},
   "outputs": [
    {
     "data": {
      "text/html": [
       "<div>\n",
       "<style scoped>\n",
       "    .dataframe tbody tr th:only-of-type {\n",
       "        vertical-align: middle;\n",
       "    }\n",
       "\n",
       "    .dataframe tbody tr th {\n",
       "        vertical-align: top;\n",
       "    }\n",
       "\n",
       "    .dataframe thead th {\n",
       "        text-align: right;\n",
       "    }\n",
       "</style>\n",
       "<table border=\"1\" class=\"dataframe\">\n",
       "  <thead>\n",
       "    <tr style=\"text-align: right;\">\n",
       "      <th></th>\n",
       "      <th>Pet</th>\n",
       "      <th>Longevity</th>\n",
       "    </tr>\n",
       "  </thead>\n",
       "  <tbody>\n",
       "    <tr>\n",
       "      <th>1</th>\n",
       "      <td>1</td>\n",
       "      <td>0.532020</td>\n",
       "    </tr>\n",
       "    <tr>\n",
       "      <th>2</th>\n",
       "      <td>2</td>\n",
       "      <td>0.481481</td>\n",
       "    </tr>\n",
       "    <tr>\n",
       "      <th>0</th>\n",
       "      <td>0</td>\n",
       "      <td>0.345361</td>\n",
       "    </tr>\n",
       "    <tr>\n",
       "      <th>3</th>\n",
       "      <td>3</td>\n",
       "      <td>0.250000</td>\n",
       "    </tr>\n",
       "    <tr>\n",
       "      <th>4</th>\n",
       "      <td>4</td>\n",
       "      <td>0.166667</td>\n",
       "    </tr>\n",
       "    <tr>\n",
       "      <th>5</th>\n",
       "      <td>5</td>\n",
       "      <td>0.000000</td>\n",
       "    </tr>\n",
       "    <tr>\n",
       "      <th>6</th>\n",
       "      <td>8</td>\n",
       "      <td>0.000000</td>\n",
       "    </tr>\n",
       "  </tbody>\n",
       "</table>\n",
       "</div>"
      ],
      "text/plain": [
       "   Pet  Longevity\n",
       "1    1   0.532020\n",
       "2    2   0.481481\n",
       "0    0   0.345361\n",
       "3    3   0.250000\n",
       "4    4   0.166667\n",
       "5    5   0.000000\n",
       "6    8   0.000000"
      ]
     },
     "execution_count": 17,
     "metadata": {},
     "output_type": "execute_result"
    }
   ],
   "source": [
    "train_df[['Pet', 'Longevity']].groupby(['Pet'], as_index=False).mean().sort_values(by='Longevity', ascending=False)"
   ]
  },
  {
   "cell_type": "code",
   "execution_count": 19,
   "metadata": {},
   "outputs": [
    {
     "data": {
      "text/html": [
       "<div>\n",
       "<style scoped>\n",
       "    .dataframe tbody tr th:only-of-type {\n",
       "        vertical-align: middle;\n",
       "    }\n",
       "\n",
       "    .dataframe tbody tr th {\n",
       "        vertical-align: top;\n",
       "    }\n",
       "\n",
       "    .dataframe thead th {\n",
       "        text-align: right;\n",
       "    }\n",
       "</style>\n",
       "<table border=\"1\" class=\"dataframe\">\n",
       "  <thead>\n",
       "    <tr style=\"text-align: right;\">\n",
       "      <th></th>\n",
       "      <th>Children</th>\n",
       "      <th>Longevity</th>\n",
       "    </tr>\n",
       "  </thead>\n",
       "  <tbody>\n",
       "    <tr>\n",
       "      <th>1</th>\n",
       "      <td>1</td>\n",
       "      <td>1.0</td>\n",
       "    </tr>\n",
       "    <tr>\n",
       "      <th>2</th>\n",
       "      <td>2</td>\n",
       "      <td>1.0</td>\n",
       "    </tr>\n",
       "    <tr>\n",
       "      <th>3</th>\n",
       "      <td>3</td>\n",
       "      <td>0.5</td>\n",
       "    </tr>\n",
       "    <tr>\n",
       "      <th>0</th>\n",
       "      <td>0</td>\n",
       "      <td>0.0</td>\n",
       "    </tr>\n",
       "    <tr>\n",
       "      <th>4</th>\n",
       "      <td>4</td>\n",
       "      <td>0.0</td>\n",
       "    </tr>\n",
       "    <tr>\n",
       "      <th>5</th>\n",
       "      <td>5</td>\n",
       "      <td>0.0</td>\n",
       "    </tr>\n",
       "    <tr>\n",
       "      <th>6</th>\n",
       "      <td>6</td>\n",
       "      <td>0.0</td>\n",
       "    </tr>\n",
       "  </tbody>\n",
       "</table>\n",
       "</div>"
      ],
      "text/plain": [
       "   Children  Longevity\n",
       "1         1        1.0\n",
       "2         2        1.0\n",
       "3         3        0.5\n",
       "0         0        0.0\n",
       "4         4        0.0\n",
       "5         5        0.0\n",
       "6         6        0.0"
      ]
     },
     "execution_count": 19,
     "metadata": {},
     "output_type": "execute_result"
    }
   ],
   "source": [
    "train_df[['Children', 'Longevity']].groupby(['Children'], as_index=False).median().sort_values(by='Longevity', ascending=False)"
   ]
  },
  {
   "cell_type": "code",
   "execution_count": 30,
   "metadata": {},
   "outputs": [
    {
     "data": {
      "text/plain": [
       "<seaborn.axisgrid.FacetGrid at 0x7fdb8719c828>"
      ]
     },
     "execution_count": 30,
     "metadata": {},
     "output_type": "execute_result"
    },
    {
     "data": {
      "image/png": "[encoded data removed]",
      "text/plain": [
       "<Figure size 432x216 with 2 Axes>"
      ]
     },
     "metadata": {
      "needs_background": "light"
     },
     "output_type": "display_data"
    }
   ],
   "source": [
    "g = sns.FacetGrid(train_df, col='Longevity')\n",
    "g.map(plt.hist, 'Age', bins=20)"
   ]
  },
  {
   "cell_type": "code",
   "execution_count": 26,
   "metadata": {},
   "outputs": [
    {
     "data": {
      "text/plain": [
       "array(['76', '73', nan, '75', '74', '71', '72', '77', '78', '70', '80',\n",
       "       '#ЗНАЧ!'], dtype=object)"
      ]
     },
     "execution_count": 26,
     "metadata": {},
     "output_type": "execute_result"
    }
   ],
   "source": [
    " #Correct errors in Age column\n",
    "train_df['Age'].unique()\n",
    "test_df['Age'].unique()"
   ]
  },
  {
   "cell_type": "code",
   "execution_count": 29,
   "metadata": {},
   "outputs": [],
   "source": [
    "idmax = train_df['Age'].value_counts().idxmax()\n",
    "train_df['Age'] = train_df['Age'].map(lambda v: idmax if v == '#ЗНАЧ!' else v).astype(float)\n",
    "test_df['Age'] = train_df['Age'].map(lambda v: idmax if v == '#ЗНАЧ!' else v).astype(float)"
   ]
  },
  {
   "cell_type": "code",
   "execution_count": 31,
   "metadata": {},
   "outputs": [],
   "source": [
    "#Change category to number\n",
    "#dataset['КАТЕГОРИЯ'] = dataset['КАТЕГОРИЯ'].map( {'ЗНАЧЕНИЕ#1': 1, 'ЗНАЧЕНИЕ#2': 2, 'ЗНАЧЕНИЕ#3': 3} ).astype(int)"
   ]
  },
  {
   "cell_type": "code",
   "execution_count": 32,
   "metadata": {},
   "outputs": [
    {
     "data": {
      "text/html": [
       "<div>\n",
       "<style scoped>\n",
       "    .dataframe tbody tr th:only-of-type {\n",
       "        vertical-align: middle;\n",
       "    }\n",
       "\n",
       "    .dataframe tbody tr th {\n",
       "        vertical-align: top;\n",
       "    }\n",
       "\n",
       "    .dataframe thead th {\n",
       "        text-align: right;\n",
       "    }\n",
       "</style>\n",
       "<table border=\"1\" class=\"dataframe\">\n",
       "  <thead>\n",
       "    <tr style=\"text-align: right;\">\n",
       "      <th></th>\n",
       "      <th>Id</th>\n",
       "      <th>Longevity</th>\n",
       "      <th>Education</th>\n",
       "      <th>Age</th>\n",
       "      <th>Pet</th>\n",
       "      <th>Children</th>\n",
       "      <th>Activity</th>\n",
       "    </tr>\n",
       "  </thead>\n",
       "  <tbody>\n",
       "    <tr>\n",
       "      <th>Id</th>\n",
       "      <td>1.000000</td>\n",
       "      <td>-0.004966</td>\n",
       "      <td>-0.036821</td>\n",
       "      <td>0.046844</td>\n",
       "      <td>-0.058978</td>\n",
       "      <td>-0.009969</td>\n",
       "      <td>0.030154</td>\n",
       "    </tr>\n",
       "    <tr>\n",
       "      <th>Longevity</th>\n",
       "      <td>-0.004966</td>\n",
       "      <td>1.000000</td>\n",
       "      <td>-0.332122</td>\n",
       "      <td>-0.067844</td>\n",
       "      <td>-0.032516</td>\n",
       "      <td>0.083514</td>\n",
       "      <td>0.258674</td>\n",
       "    </tr>\n",
       "    <tr>\n",
       "      <th>Education</th>\n",
       "      <td>-0.036821</td>\n",
       "      <td>-0.332122</td>\n",
       "      <td>1.000000</td>\n",
       "      <td>-0.367923</td>\n",
       "      <td>0.079293</td>\n",
       "      <td>0.008467</td>\n",
       "      <td>-0.555511</td>\n",
       "    </tr>\n",
       "    <tr>\n",
       "      <th>Age</th>\n",
       "      <td>0.046844</td>\n",
       "      <td>-0.067844</td>\n",
       "      <td>-0.367923</td>\n",
       "      <td>1.000000</td>\n",
       "      <td>-0.309838</td>\n",
       "      <td>-0.194627</td>\n",
       "      <td>0.085975</td>\n",
       "    </tr>\n",
       "    <tr>\n",
       "      <th>Pet</th>\n",
       "      <td>-0.058978</td>\n",
       "      <td>-0.032516</td>\n",
       "      <td>0.079293</td>\n",
       "      <td>-0.309838</td>\n",
       "      <td>1.000000</td>\n",
       "      <td>0.426704</td>\n",
       "      <td>0.156574</td>\n",
       "    </tr>\n",
       "    <tr>\n",
       "      <th>Children</th>\n",
       "      <td>-0.009969</td>\n",
       "      <td>0.083514</td>\n",
       "      <td>0.008467</td>\n",
       "      <td>-0.194627</td>\n",
       "      <td>0.426704</td>\n",
       "      <td>1.000000</td>\n",
       "      <td>0.218905</td>\n",
       "    </tr>\n",
       "    <tr>\n",
       "      <th>Activity</th>\n",
       "      <td>0.030154</td>\n",
       "      <td>0.258674</td>\n",
       "      <td>-0.555511</td>\n",
       "      <td>0.085975</td>\n",
       "      <td>0.156574</td>\n",
       "      <td>0.218905</td>\n",
       "      <td>1.000000</td>\n",
       "    </tr>\n",
       "  </tbody>\n",
       "</table>\n",
       "</div>"
      ],
      "text/plain": [
       "                 Id  Longevity  Education       Age       Pet  Children  \\\n",
       "Id         1.000000  -0.004966  -0.036821  0.046844 -0.058978 -0.009969   \n",
       "Longevity -0.004966   1.000000  -0.332122 -0.067844 -0.032516  0.083514   \n",
       "Education -0.036821  -0.332122   1.000000 -0.367923  0.079293  0.008467   \n",
       "Age        0.046844  -0.067844  -0.367923  1.000000 -0.309838 -0.194627   \n",
       "Pet       -0.058978  -0.032516   0.079293 -0.309838  1.000000  0.426704   \n",
       "Children  -0.009969   0.083514   0.008467 -0.194627  0.426704  1.000000   \n",
       "Activity   0.030154   0.258674  -0.555511  0.085975  0.156574  0.218905   \n",
       "\n",
       "           Activity  \n",
       "Id         0.030154  \n",
       "Longevity  0.258674  \n",
       "Education -0.555511  \n",
       "Age        0.085975  \n",
       "Pet        0.156574  \n",
       "Children   0.218905  \n",
       "Activity   1.000000  "
      ]
     },
     "execution_count": 32,
     "metadata": {},
     "output_type": "execute_result"
    }
   ],
   "source": [
    "train_df.corr()"
   ]
  },
  {
   "cell_type": "code",
   "execution_count": 33,
   "metadata": {},
   "outputs": [
    {
     "data": {
      "image/png": "[encoded data removed]",
      "text/plain": [
       "<Figure size 514.88x475.2 with 6 Axes>"
      ]
     },
     "metadata": {
      "needs_background": "light"
     },
     "output_type": "display_data"
    }
   ],
   "source": [
    "grid = sns.FacetGrid(train_df, col='Longevity', row='Education', height=2.2, aspect=1.6)\n",
    "grid.map(plt.hist, 'Age', alpha=.5, bins=20)\n",
    "grid.add_legend();"
   ]
  },
  {
   "cell_type": "code",
   "execution_count": 36,
   "metadata": {},
   "outputs": [
    {
     "name": "stderr",
     "output_type": "stream",
     "text": [
      "/home/team02/anaconda3/lib/python3.7/site-packages/seaborn/axisgrid.py:715: UserWarning: Using the barplot function without specifying `order` is likely to produce an incorrect plot.\n",
      "  warnings.warn(warning)\n"
     ]
    },
    {
     "data": {
      "text/plain": [
       "<seaborn.axisgrid.FacetGrid at 0x7fdb86ccaa90>"
      ]
     },
     "execution_count": 36,
     "metadata": {},
     "output_type": "execute_result"
    },
    {
     "data": {
      "image/png": "[encoded data removed]",
      "text/plain": [
       "<Figure size 514.88x316.8 with 4 Axes>"
      ]
     },
     "metadata": {
      "needs_background": "light"
     },
     "output_type": "display_data"
    }
   ],
   "source": [
    "grid = sns.FacetGrid(train_df, row='Sport', col='Longevity', height=2.2, aspect=1.6)\n",
    "grid.map(sns.barplot, 'Sex', 'Activity', alpha=.5, ci=None)\n",
    "grid.add_legend()"
   ]
  },
  {
   "cell_type": "code",
   "execution_count": null,
   "metadata": {},
   "outputs": [],
   "source": []
  }
 ],
 "metadata": {
  "kernelspec": {
   "display_name": "Python 3",
   "language": "python",
   "name": "python3"
  },
  "language_info": {
   "codemirror_mode": {
    "name": "ipython",
    "version": 3
   },
   "file_extension": ".py",
   "mimetype": "text/x-python",
   "name": "python",
   "nbconvert_exporter": "python",
   "pygments_lexer": "ipython3",
   "version": "3.7.3"
  }
 },
 "nbformat": 4,
 "nbformat_minor": 2
}
