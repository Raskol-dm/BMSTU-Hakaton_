{
 "cells": [
  {
   "cell_type": "code",
   "execution_count": 1,
   "metadata": {},
   "outputs": [],
   "source": [
    "acc_test = []\n",
    "acc_train = []\n",
    "acc_valid = []"
   ]
  },
  {
   "cell_type": "code",
   "execution_count": 2,
   "metadata": {},
   "outputs": [],
   "source": [
    "import pandas as pd\n",
    "from sklearn.tree import DecisionTreeClassifier\n",
    "from sklearn.ensemble import RandomForestClassifier\n",
    "from sklearn.linear_model import SGDClassifier, Perceptron\n",
    "from sklearn.naive_bayes import GaussianNB\n",
    "from sklearn.neighbors import KNeighborsClassifier\n",
    "from sklearn.svm import LinearSVC, SVC\n",
    "from sklearn.model_selection import train_test_split\n",
    "from sklearn.metrics import accuracy_score\n",
    "\n",
    "import warnings\n",
    "warnings.simplefilter(action='ignore', category=FutureWarning)"
   ]
  },
  {
   "cell_type": "code",
   "execution_count": 3,
   "metadata": {},
   "outputs": [
    {
     "data": {
      "text/html": [
       "<div>\n",
       "<style scoped>\n",
       "    .dataframe tbody tr th:only-of-type {\n",
       "        vertical-align: middle;\n",
       "    }\n",
       "\n",
       "    .dataframe tbody tr th {\n",
       "        vertical-align: top;\n",
       "    }\n",
       "\n",
       "    .dataframe thead th {\n",
       "        text-align: right;\n",
       "    }\n",
       "</style>\n",
       "<table border=\"1\" class=\"dataframe\">\n",
       "  <thead>\n",
       "    <tr style=\"text-align: right;\">\n",
       "      <th></th>\n",
       "      <th>Activity</th>\n",
       "      <th>Age</th>\n",
       "      <th>Age_range</th>\n",
       "      <th>Children</th>\n",
       "      <th>Education</th>\n",
       "      <th>Family</th>\n",
       "      <th>IsAlone</th>\n",
       "      <th>Longevity</th>\n",
       "      <th>Pet</th>\n",
       "      <th>Sex</th>\n",
       "      <th>Social_status</th>\n",
       "      <th>Sport</th>\n",
       "    </tr>\n",
       "  </thead>\n",
       "  <tbody>\n",
       "    <tr>\n",
       "      <th>0</th>\n",
       "      <td>725</td>\n",
       "      <td>73</td>\n",
       "      <td>3</td>\n",
       "      <td>0</td>\n",
       "      <td>3</td>\n",
       "      <td>1</td>\n",
       "      <td>False</td>\n",
       "      <td>0</td>\n",
       "      <td>1</td>\n",
       "      <td>female</td>\n",
       "      <td>9</td>\n",
       "      <td>0</td>\n",
       "    </tr>\n",
       "    <tr>\n",
       "      <th>1</th>\n",
       "      <td>7128</td>\n",
       "      <td>75</td>\n",
       "      <td>4</td>\n",
       "      <td>0</td>\n",
       "      <td>1</td>\n",
       "      <td>1</td>\n",
       "      <td>False</td>\n",
       "      <td>1</td>\n",
       "      <td>1</td>\n",
       "      <td>male</td>\n",
       "      <td>4</td>\n",
       "      <td>1</td>\n",
       "    </tr>\n",
       "    <tr>\n",
       "      <th>2</th>\n",
       "      <td>793</td>\n",
       "      <td>73</td>\n",
       "      <td>3</td>\n",
       "      <td>0</td>\n",
       "      <td>3</td>\n",
       "      <td>0</td>\n",
       "      <td>True</td>\n",
       "      <td>1</td>\n",
       "      <td>0</td>\n",
       "      <td>male</td>\n",
       "      <td>9</td>\n",
       "      <td>0</td>\n",
       "    </tr>\n",
       "    <tr>\n",
       "      <th>3</th>\n",
       "      <td>5310</td>\n",
       "      <td>74</td>\n",
       "      <td>3</td>\n",
       "      <td>0</td>\n",
       "      <td>1</td>\n",
       "      <td>1</td>\n",
       "      <td>False</td>\n",
       "      <td>1</td>\n",
       "      <td>1</td>\n",
       "      <td>male</td>\n",
       "      <td>3</td>\n",
       "      <td>0</td>\n",
       "    </tr>\n",
       "    <tr>\n",
       "      <th>4</th>\n",
       "      <td>805</td>\n",
       "      <td>74</td>\n",
       "      <td>3</td>\n",
       "      <td>0</td>\n",
       "      <td>3</td>\n",
       "      <td>0</td>\n",
       "      <td>True</td>\n",
       "      <td>0</td>\n",
       "      <td>0</td>\n",
       "      <td>female</td>\n",
       "      <td>9</td>\n",
       "      <td>0</td>\n",
       "    </tr>\n",
       "  </tbody>\n",
       "</table>\n",
       "</div>"
      ],
      "text/plain": [
       "   Activity  Age  Age_range  Children  Education  Family  IsAlone  Longevity  \\\n",
       "0       725   73          3         0          3       1    False          0   \n",
       "1      7128   75          4         0          1       1    False          1   \n",
       "2       793   73          3         0          3       0     True          1   \n",
       "3      5310   74          3         0          1       1    False          1   \n",
       "4       805   74          3         0          3       0     True          0   \n",
       "\n",
       "   Pet     Sex  Social_status  Sport  \n",
       "0    1  female              9      0  \n",
       "1    1    male              4      1  \n",
       "2    0    male              9      0  \n",
       "3    1    male              3      0  \n",
       "4    0  female              9      0  "
      ]
     },
     "execution_count": 3,
     "metadata": {},
     "output_type": "execute_result"
    }
   ],
   "source": [
    "df = pd.read_csv(\"Day2_df.csv\").drop(['Unnamed: 0', 'index'], axis = 1)\n",
    "df_test = pd.read_csv(\"Day2_test.csv\").drop(['Unnamed: 0', 'index'], axis = 1)\n",
    "df = pd.concat([df, df_test], axis=0).drop_duplicates()\n",
    "df.head()"
   ]
  },
  {
   "cell_type": "code",
   "execution_count": 4,
   "metadata": {},
   "outputs": [],
   "source": [
    "df['Sex_int'] = (df['Sex'] == 'male').astype('int')\n",
    "df['IsAlone_int'] = df['IsAlone'].astype('int')"
   ]
  },
  {
   "cell_type": "code",
   "execution_count": 5,
   "metadata": {},
   "outputs": [],
   "source": [
    "features = df.drop(['Longevity', 'Sex', 'IsAlone', ], axis = 1)\n",
    "target = df['Longevity']"
   ]
  },
  {
   "cell_type": "markdown",
   "metadata": {},
   "source": [
    "Фиксируем псевдослучайности, чтобы можно было повторить эксперементы."
   ]
  },
  {
   "cell_type": "code",
   "execution_count": 6,
   "metadata": {},
   "outputs": [],
   "source": [
    "random_sts = [0, 12345, 13579, 24680, 54321, 192837]"
   ]
  },
  {
   "cell_type": "markdown",
   "metadata": {},
   "source": [
    "Делим выборку на обучающую валидационную и тестовую в соотношении 60:20:20."
   ]
  },
  {
   "cell_type": "code",
   "execution_count": 7,
   "metadata": {},
   "outputs": [],
   "source": [
    "features_train, features_, target_train, target_ = train_test_split(\n",
    "    features, target, test_size = 0.4, random_state = 12345\n",
    ")\n",
    "\n",
    "features_valid, features_test, target_valid, target_test = train_test_split(\n",
    "    features_, target_, test_size = 0.5, random_state = 12345\n",
    ")"
   ]
  },
  {
   "cell_type": "code",
   "execution_count": 8,
   "metadata": {},
   "outputs": [
    {
     "name": "stdout",
     "output_type": "stream",
     "text": [
      "Размер обучающей выборки: 458\n",
      "Ее доля от исходных данных: 60%\n",
      "\n",
      "Размер валидационной выборки: 153\n",
      "Ее доля от исходных данных: 20%\n",
      "\n",
      "Размер тестовой выборки: 153\n",
      "Ее доля от исходных данных: 20%\n"
     ]
    }
   ],
   "source": [
    "print(\"Размер обучающей выборки:\", features_train.shape[0])\n",
    "print(\"Ее доля от исходных данных: {:.0%}\".format(features_train.shape[0] / \n",
    "                                                  features.shape[0]))\n",
    "print()\n",
    "print(\"Размер валидационной выборки:\", features_valid.shape[0])\n",
    "print(\"Ее доля от исходных данных: {:.0%}\".format(features_valid.shape[0] / \n",
    "                                                  features.shape[0]))\n",
    "print()\n",
    "print(\"Размер тестовой выборки:\", features_test.shape[0])\n",
    "print(\"Ее доля от исходных данных: {:.0%}\".format(features_test.shape[0] / \n",
    "                                                  features.shape[0]))"
   ]
  },
  {
   "cell_type": "markdown",
   "metadata": {},
   "source": [
    "### Модель Машины опорных векторов"
   ]
  },
  {
   "cell_type": "code",
   "execution_count": 9,
   "metadata": {},
   "outputs": [],
   "source": [
    "svc_model = None\n",
    "svc_accuracy = 0\n",
    "\n",
    "for st in random_sts:\n",
    "    for c in range(1, 11):\n",
    "        model = SVC(random_state=st, C=(c/10))\n",
    "        model.fit(features_train, target_train)\n",
    "        predictions = model.predict(features_valid)\n",
    "        accuracy = accuracy_score(target_valid, predictions)\n",
    "        \n",
    "        if accuracy > svc_accuracy:\n",
    "            svc_model = model\n",
    "            svc_accuracy = accuracy"
   ]
  },
  {
   "cell_type": "code",
   "execution_count": 10,
   "metadata": {},
   "outputs": [
    {
     "name": "stdout",
     "output_type": "stream",
     "text": [
      "Гиперпараметры лучшей модели опорных векторов на валидационной выборке:\n",
      "C: 1.0\n",
      "random_state: 0\n",
      "accuracy: 0.5751633986928104\n"
     ]
    }
   ],
   "source": [
    "print(\"Гиперпараметры лучшей модели опорных векторов на валидационной выборке:\")\n",
    "print(\"C:\", svc_model.C)\n",
    "print(\"random_state:\", svc_model.random_state)\n",
    "print(\"accuracy:\", svc_accuracy)"
   ]
  },
  {
   "cell_type": "code",
   "execution_count": 11,
   "metadata": {},
   "outputs": [
    {
     "name": "stdout",
     "output_type": "stream",
     "text": [
      "Точность на тестовой выборке: 0.5816993464052288\n"
     ]
    }
   ],
   "source": [
    "svc_accuracy_test = accuracy_score(target_test, svc_model.predict(features_test))\n",
    "print(\"Точность на тестовой выборке:\", svc_accuracy_test)"
   ]
  },
  {
   "cell_type": "code",
   "execution_count": 12,
   "metadata": {},
   "outputs": [],
   "source": [
    "acc_valid.append(svc_accuracy)\n",
    "acc_test.append(svc_accuracy_test)\n",
    "acc_train.append(accuracy_score(target_train, svc_model.predict(features_train)))"
   ]
  },
  {
   "cell_type": "markdown",
   "metadata": {},
   "source": [
    "### Модель Линейной машины опорных векторов"
   ]
  },
  {
   "cell_type": "code",
   "execution_count": 13,
   "metadata": {},
   "outputs": [
    {
     "name": "stderr",
     "output_type": "stream",
     "text": [
      "/home/team02/anaconda3/lib/python3.7/site-packages/sklearn/svm/base.py:931: ConvergenceWarning: Liblinear failed to converge, increase the number of iterations.\n",
      "  \"the number of iterations.\", ConvergenceWarning)\n"
     ]
    }
   ],
   "source": [
    "# TODO Убрать Warning-и\n",
    "\n",
    "svc_linear_model = None\n",
    "svc_linear_accuracy = 0\n",
    "\n",
    "model = LinearSVC(dual = True, C=(6/10), random_state=192837, max_iter = 105000)\n",
    "model.fit(features_train, target_train)\n",
    "predictions = model.predict(features_valid)\n",
    "accuracy = accuracy_score(target_valid, predictions)\n",
    "if accuracy > svc_linear_accuracy:\n",
    "    svc_linear_model = model\n",
    "    svc_linear_accuracy = accuracy"
   ]
  },
  {
   "cell_type": "code",
   "execution_count": 14,
   "metadata": {},
   "outputs": [
    {
     "name": "stdout",
     "output_type": "stream",
     "text": [
      "Гиперпараметры лучшей модели линейной машины опорных векторов на валидационной выборке:\n",
      "C: 0.6\n",
      "random_state: 192837\n",
      "accuracy: 0.7908496732026143\n"
     ]
    }
   ],
   "source": [
    "print(\"Гиперпараметры лучшей модели линейной машины опорных векторов на валидационной выборке:\")\n",
    "print(\"C:\", svc_linear_model.C)\n",
    "print(\"random_state:\", svc_linear_model.random_state)\n",
    "print(\"accuracy:\", svc_linear_accuracy)\n",
    "# При max_iter = 105000 точность максимальна для данного датасета\n",
    "# Условия вычислены перебором, записаны прямо для экономии времени при запуске"
   ]
  },
  {
   "cell_type": "code",
   "execution_count": 15,
   "metadata": {},
   "outputs": [
    {
     "name": "stdout",
     "output_type": "stream",
     "text": [
      "Точность на тестовой выборке: 0.8104575163398693\n"
     ]
    }
   ],
   "source": [
    "svc_accuracy_test = accuracy_score(target_test, svc_linear_model.predict(features_test))\n",
    "print(\"Точность на тестовой выборке:\", svc_accuracy_test)"
   ]
  },
  {
   "cell_type": "code",
   "execution_count": 16,
   "metadata": {},
   "outputs": [],
   "source": [
    "acc_valid.append(svc_linear_accuracy)\n",
    "acc_test.append(svc_accuracy_test)\n",
    "acc_train.append(accuracy_score(target_train, svc_linear_model.predict(features_train)))"
   ]
  },
  {
   "cell_type": "markdown",
   "metadata": {},
   "source": [
    "### Модель k-Ближайших соседей"
   ]
  },
  {
   "cell_type": "code",
   "execution_count": 17,
   "metadata": {},
   "outputs": [],
   "source": [
    "# Коэффициенты для каждого объекта, слишком большое евклидово расстояние\n",
    "# Другая конфигурация данных\n",
    "kn_model = None\n",
    "kn_accuracy = 0\n",
    "\n",
    "for n in range(1, 16):\n",
    "    for alg in ['ball_tree', 'kd_tree', 'brute']:\n",
    "        for p in range(1, 5):\n",
    "            model = KNeighborsClassifier(n_neighbors=n, algorithm=alg, p=p)\n",
    "            model.fit(features_train, target_train)\n",
    "            predictions = model.predict(features_valid)\n",
    "            accuracy = accuracy_score(target_valid, predictions)\n",
    "        \n",
    "            if accuracy > kn_accuracy:\n",
    "                kn_model = model\n",
    "                kn_accuracy = accuracy"
   ]
  },
  {
   "cell_type": "code",
   "execution_count": 18,
   "metadata": {},
   "outputs": [
    {
     "name": "stdout",
     "output_type": "stream",
     "text": [
      "Гиперпараметры лучшей модели k-Ближайших соседей на валидационной выборке:\n",
      "n_neighbors: 9\n",
      "algorithm: brute\n",
      "accuracy: 0.6862745098039216\n"
     ]
    }
   ],
   "source": [
    "print(\"Гиперпараметры лучшей модели k-Ближайших соседей на валидационной выборке:\")\n",
    "print(\"n_neighbors:\", kn_model.n_neighbors)\n",
    "print(\"algorithm:\", kn_model.algorithm)\n",
    "print(\"accuracy:\", kn_accuracy)"
   ]
  },
  {
   "cell_type": "code",
   "execution_count": 19,
   "metadata": {},
   "outputs": [
    {
     "name": "stdout",
     "output_type": "stream",
     "text": [
      "Точность на тестовой выборке: 0.6601307189542484\n"
     ]
    }
   ],
   "source": [
    "kn_accuracy_test = accuracy_score(target_test, kn_model.predict(features_test))\n",
    "print(\"Точность на тестовой выборке:\", kn_accuracy_test)"
   ]
  },
  {
   "cell_type": "code",
   "execution_count": 20,
   "metadata": {},
   "outputs": [],
   "source": [
    "acc_valid.append(kn_accuracy)\n",
    "acc_test.append(kn_accuracy_test)\n",
    "acc_train.append(accuracy_score(target_train, kn_model.predict(features_train)))"
   ]
  },
  {
   "cell_type": "markdown",
   "metadata": {},
   "source": [
    "### Модель Наивного байесовского классификатора "
   ]
  },
  {
   "cell_type": "code",
   "execution_count": 21,
   "metadata": {},
   "outputs": [],
   "source": [
    "gnb_model = GaussianNB()\n",
    "gnb_model.fit(features_train, target_train)\n",
    "predictions = model.predict(features_valid)\n",
    "gnb_accuracy = accuracy_score(target_valid, predictions)"
   ]
  },
  {
   "cell_type": "code",
   "execution_count": 22,
   "metadata": {},
   "outputs": [
    {
     "name": "stdout",
     "output_type": "stream",
     "text": [
      "Точность модели НБК на валидационной выборке: 0.6470588235294118\n"
     ]
    }
   ],
   "source": [
    "print(\"Точность модели НБК на валидационной выборке:\", gnb_accuracy)"
   ]
  },
  {
   "cell_type": "code",
   "execution_count": 23,
   "metadata": {},
   "outputs": [
    {
     "name": "stdout",
     "output_type": "stream",
     "text": [
      "Точность на тестовой выборке: 0.8235294117647058\n"
     ]
    }
   ],
   "source": [
    "gnb_accuracy_test = accuracy_score(target_test, gnb_model.predict(features_test))\n",
    "print(\"Точность на тестовой выборке:\", gnb_accuracy_test)"
   ]
  },
  {
   "cell_type": "code",
   "execution_count": 24,
   "metadata": {},
   "outputs": [],
   "source": [
    "acc_valid.append(gnb_accuracy)\n",
    "acc_test.append(gnb_accuracy_test)\n",
    "acc_train.append(accuracy_score(target_train, gnb_model.predict(features_train)))"
   ]
  },
  {
   "cell_type": "markdown",
   "metadata": {},
   "source": [
    "### Модель Персептрона"
   ]
  },
  {
   "cell_type": "code",
   "execution_count": 25,
   "metadata": {},
   "outputs": [],
   "source": [
    "# Равномерно представленные объекты больше подходят для Персептрона\n",
    "\n",
    "pcp_model = None\n",
    "pcp_accuracy = 0\n",
    "\n",
    "for st in random_sts:\n",
    "    model = Perceptron(random_state=st, class_weight='balanced', shuffle=True)\n",
    "    model.fit(features_train, target_train)\n",
    "    predictions = model.predict(features_valid)\n",
    "    accuracy = accuracy_score(target_valid, predictions)\n",
    "        \n",
    "    if accuracy > pcp_accuracy:\n",
    "        pcp_model = model\n",
    "        pcp_accuracy = accuracy"
   ]
  },
  {
   "cell_type": "code",
   "execution_count": 26,
   "metadata": {},
   "outputs": [
    {
     "name": "stdout",
     "output_type": "stream",
     "text": [
      "Гиперпараметры лучшей модели персептрона на валидационной выборке:\n",
      "random_state: 13579\n",
      "accuracy: 0.6274509803921569\n"
     ]
    }
   ],
   "source": [
    "print(\"Гиперпараметры лучшей модели персептрона на валидационной выборке:\")\n",
    "print(\"random_state:\", pcp_model.random_state)\n",
    "print(\"accuracy:\", pcp_accuracy)"
   ]
  },
  {
   "cell_type": "code",
   "execution_count": 27,
   "metadata": {},
   "outputs": [
    {
     "name": "stdout",
     "output_type": "stream",
     "text": [
      "Точность на тестовой выборке: 0.5882352941176471\n"
     ]
    }
   ],
   "source": [
    "pcp_accuracy_test = accuracy_score(target_test, pcp_model.predict(features_test))\n",
    "print(\"Точность на тестовой выборке:\", pcp_accuracy_test)"
   ]
  },
  {
   "cell_type": "code",
   "execution_count": 28,
   "metadata": {},
   "outputs": [],
   "source": [
    "acc_valid.append(pcp_accuracy)\n",
    "acc_test.append(pcp_accuracy_test)\n",
    "acc_train.append(accuracy_score(target_train, pcp_model.predict(features_train)))"
   ]
  },
  {
   "cell_type": "markdown",
   "metadata": {},
   "source": [
    "### Классификатор на основе метода стохастического градиентного спуска"
   ]
  },
  {
   "cell_type": "code",
   "execution_count": 29,
   "metadata": {},
   "outputs": [],
   "source": [
    "sgd_model = None\n",
    "sgd_accuracy = 0\n",
    "\n",
    "for st in random_sts:\n",
    "    for l in ['hinge','log','modified_huber','squared_hinge','perceptron',\n",
    "              'squared_loss','huber','epsilon_insensitive','squared_epsilon_insensitive']:\n",
    "        for p in ['l2', 'l1', 'elasticnet']:\n",
    "            model = SGDClassifier(random_state=st, loss=l, penalty=p, learning_rate = 'adaptive', eta0=0.5)\n",
    "            model.fit(features_train, target_train)\n",
    "            predictions = model.predict(features_valid)\n",
    "            accuracy = accuracy_score(target_valid, predictions)\n",
    "        \n",
    "            if accuracy > sgd_accuracy:\n",
    "                sgd_model = model\n",
    "                sgd_accuracy = accuracy"
   ]
  },
  {
   "cell_type": "code",
   "execution_count": 30,
   "metadata": {},
   "outputs": [
    {
     "name": "stdout",
     "output_type": "stream",
     "text": [
      "Гиперпараметры лучшей модели SGD на валидационной выборке:\n",
      "random_state: 13579\n",
      "loss: squared_epsilon_insensitive\n",
      "penalty: l2\n",
      "accuracy: 0.6143790849673203\n"
     ]
    }
   ],
   "source": [
    "print(\"Гиперпараметры лучшей модели SGD на валидационной выборке:\")\n",
    "print(\"random_state:\", sgd_model.random_state)\n",
    "print(\"loss:\", sgd_model.loss)\n",
    "print(\"penalty:\", sgd_model.penalty)\n",
    "print(\"accuracy:\", sgd_accuracy)"
   ]
  },
  {
   "cell_type": "code",
   "execution_count": 31,
   "metadata": {},
   "outputs": [
    {
     "name": "stdout",
     "output_type": "stream",
     "text": [
      "Точность на тестовой выборке: 0.6666666666666666\n"
     ]
    }
   ],
   "source": [
    "sgd_accuracy_test = accuracy_score(target_test, sgd_model.predict(features_test))\n",
    "print(\"Точность на тестовой выборке:\", sgd_accuracy_test)"
   ]
  },
  {
   "cell_type": "code",
   "execution_count": 32,
   "metadata": {},
   "outputs": [],
   "source": [
    "acc_valid.append(sgd_accuracy)\n",
    "acc_test.append(sgd_accuracy_test)\n",
    "acc_train.append(accuracy_score(target_train, sgd_model.predict(features_train)))"
   ]
  },
  {
   "cell_type": "markdown",
   "metadata": {},
   "source": [
    "### Модель дерева решений"
   ]
  },
  {
   "cell_type": "code",
   "execution_count": 33,
   "metadata": {},
   "outputs": [],
   "source": [
    "# В верхнем узле необходимо подобрать максимально определяющее условие, делящее выборку на два класса\n",
    "# Визуализировать графом через pandas\n",
    "\n",
    "tree_model = None\n",
    "tree_accuracy = 0\n",
    "\n",
    "for st in random_sts:\n",
    "    for depth in range(1, 15):\n",
    "        model = DecisionTreeClassifier(random_state=st, max_depth=depth)\n",
    "        model.fit(features_train, target_train)\n",
    "        predictions = model.predict(features_valid)\n",
    "        accuracy = accuracy_score(target_valid, predictions)\n",
    "        \n",
    "        if accuracy > tree_accuracy:\n",
    "            tree_model = model\n",
    "            tree_accuracy = accuracy"
   ]
  },
  {
   "cell_type": "code",
   "execution_count": 34,
   "metadata": {},
   "outputs": [
    {
     "name": "stdout",
     "output_type": "stream",
     "text": [
      "Гиперпараметры лучшей модели дерева решений на валидационной выборке\n",
      "random_state: 0\n",
      "max_depth: 6\n",
      "accuracy: 0.8104575163398693\n"
     ]
    }
   ],
   "source": [
    "print(\"Гиперпараметры лучшей модели дерева решений на валидационной выборке\")\n",
    "print(\"random_state:\", tree_model.random_state)\n",
    "print(\"max_depth:\", tree_model.max_depth)\n",
    "print(\"accuracy:\", tree_accuracy)"
   ]
  },
  {
   "cell_type": "code",
   "execution_count": 35,
   "metadata": {},
   "outputs": [
    {
     "name": "stdout",
     "output_type": "stream",
     "text": [
      "Точность на тестовой выборке: 0.8366013071895425\n"
     ]
    }
   ],
   "source": [
    "tree_accuracy_test = accuracy_score(target_test, tree_model.predict(features_test))\n",
    "print(\"Точность на тестовой выборке:\", tree_accuracy_test)"
   ]
  },
  {
   "cell_type": "code",
   "execution_count": 36,
   "metadata": {},
   "outputs": [],
   "source": [
    "acc_valid.append(tree_accuracy)\n",
    "acc_test.append(tree_accuracy_test)\n",
    "acc_train.append(accuracy_score(target_train, tree_model.predict(features_train)))"
   ]
  },
  {
   "cell_type": "markdown",
   "metadata": {},
   "source": [
    "### Модель случайного леса"
   ]
  },
  {
   "cell_type": "code",
   "execution_count": 37,
   "metadata": {},
   "outputs": [],
   "source": [
    "forest_model = None\n",
    "forest_accuracy = 0\n",
    "\n",
    "for st in random_sts:\n",
    "    for depth in range(1, 16):\n",
    "        for tree_cnt in range(1, 16):\n",
    "            model = RandomForestClassifier(random_state=st, max_depth=depth, \n",
    "                                           n_estimators = tree_cnt)\n",
    "            model.fit(features_train, target_train)\n",
    "            predictions = model.predict(features_valid)\n",
    "            accuracy = accuracy_score(target_valid, predictions)\n",
    "        \n",
    "            if accuracy > forest_accuracy:\n",
    "                forest_model = model\n",
    "                forest_accuracy = accuracy"
   ]
  },
  {
   "cell_type": "code",
   "execution_count": 38,
   "metadata": {},
   "outputs": [
    {
     "name": "stdout",
     "output_type": "stream",
     "text": [
      "Гиперпараметры лучшей модели случайного леса на валидационной выборке\n",
      "random_state: 13579\n",
      "max_depth: 4\n",
      "n_estimators: 5\n",
      "accuracy: 0.8366013071895425\n"
     ]
    }
   ],
   "source": [
    "print(\"Гиперпараметры лучшей модели случайного леса на валидационной выборке\")\n",
    "print(\"random_state:\", forest_model.random_state)\n",
    "print(\"max_depth:\", forest_model.max_depth)\n",
    "print(\"n_estimators:\", forest_model.n_estimators)\n",
    "print(\"accuracy:\", forest_accuracy)"
   ]
  },
  {
   "cell_type": "code",
   "execution_count": 39,
   "metadata": {},
   "outputs": [
    {
     "name": "stdout",
     "output_type": "stream",
     "text": [
      "Точность на тестовой выборке: 0.8431372549019608\n"
     ]
    }
   ],
   "source": [
    "forest_accuracy_test = accuracy_score(target_test, forest_model.predict(features_test))\n",
    "print(\"Точность на тестовой выборке:\", forest_accuracy_test)"
   ]
  },
  {
   "cell_type": "code",
   "execution_count": 40,
   "metadata": {},
   "outputs": [],
   "source": [
    "acc_valid.append(forest_accuracy)\n",
    "acc_test.append(forest_accuracy_test)\n",
    "acc_train.append(accuracy_score(target_train, forest_model.predict(features_train)))"
   ]
  },
  {
   "cell_type": "markdown",
   "metadata": {},
   "source": [
    "Сведем результаты в таблицу."
   ]
  },
  {
   "cell_type": "code",
   "execution_count": 41,
   "metadata": {},
   "outputs": [],
   "source": [
    "data ={\"model\":[\"SVC\",\"LinearSVC\",\"KNeighborsClassifier\",\"GaussianNB\",\"Perceptron\", \"SGDClassifier\", \"DecisionTreeClassifier\",\n",
    "                \"RandomForestClassifier\"],\n",
    "       \"train_accuracy\" : acc_train, \"valid_accuracy\" : acc_valid, \"test_accuracy\": acc_test, \n",
    "      \"mean_accuracy\": [(acc_train[i] + acc_valid[i] + acc_test[i]) / 3 for i in range(8)]} \n",
    "results = pd.DataFrame(data)"
   ]
  },
  {
   "cell_type": "code",
   "execution_count": 42,
   "metadata": {},
   "outputs": [
    {
     "data": {
      "text/html": [
       "<div>\n",
       "<style scoped>\n",
       "    .dataframe tbody tr th:only-of-type {\n",
       "        vertical-align: middle;\n",
       "    }\n",
       "\n",
       "    .dataframe tbody tr th {\n",
       "        vertical-align: top;\n",
       "    }\n",
       "\n",
       "    .dataframe thead th {\n",
       "        text-align: right;\n",
       "    }\n",
       "</style>\n",
       "<table border=\"1\" class=\"dataframe\">\n",
       "  <thead>\n",
       "    <tr style=\"text-align: right;\">\n",
       "      <th></th>\n",
       "      <th>model</th>\n",
       "      <th>train_accuracy</th>\n",
       "      <th>valid_accuracy</th>\n",
       "      <th>test_accuracy</th>\n",
       "      <th>mean_accuracy</th>\n",
       "    </tr>\n",
       "  </thead>\n",
       "  <tbody>\n",
       "    <tr>\n",
       "      <th>0</th>\n",
       "      <td>SVC</td>\n",
       "      <td>0.912664</td>\n",
       "      <td>0.575163</td>\n",
       "      <td>0.581699</td>\n",
       "      <td>0.689842</td>\n",
       "    </tr>\n",
       "    <tr>\n",
       "      <th>1</th>\n",
       "      <td>LinearSVC</td>\n",
       "      <td>0.788210</td>\n",
       "      <td>0.790850</td>\n",
       "      <td>0.810458</td>\n",
       "      <td>0.796506</td>\n",
       "    </tr>\n",
       "    <tr>\n",
       "      <th>2</th>\n",
       "      <td>KNeighborsClassifier</td>\n",
       "      <td>0.713974</td>\n",
       "      <td>0.686275</td>\n",
       "      <td>0.660131</td>\n",
       "      <td>0.686793</td>\n",
       "    </tr>\n",
       "    <tr>\n",
       "      <th>3</th>\n",
       "      <td>GaussianNB</td>\n",
       "      <td>0.779476</td>\n",
       "      <td>0.647059</td>\n",
       "      <td>0.823529</td>\n",
       "      <td>0.750021</td>\n",
       "    </tr>\n",
       "    <tr>\n",
       "      <th>4</th>\n",
       "      <td>Perceptron</td>\n",
       "      <td>0.576419</td>\n",
       "      <td>0.627451</td>\n",
       "      <td>0.588235</td>\n",
       "      <td>0.597368</td>\n",
       "    </tr>\n",
       "    <tr>\n",
       "      <th>5</th>\n",
       "      <td>SGDClassifier</td>\n",
       "      <td>0.615721</td>\n",
       "      <td>0.614379</td>\n",
       "      <td>0.666667</td>\n",
       "      <td>0.632255</td>\n",
       "    </tr>\n",
       "    <tr>\n",
       "      <th>6</th>\n",
       "      <td>DecisionTreeClassifier</td>\n",
       "      <td>0.879913</td>\n",
       "      <td>0.810458</td>\n",
       "      <td>0.836601</td>\n",
       "      <td>0.842324</td>\n",
       "    </tr>\n",
       "    <tr>\n",
       "      <th>7</th>\n",
       "      <td>RandomForestClassifier</td>\n",
       "      <td>0.864629</td>\n",
       "      <td>0.836601</td>\n",
       "      <td>0.843137</td>\n",
       "      <td>0.848122</td>\n",
       "    </tr>\n",
       "  </tbody>\n",
       "</table>\n",
       "</div>"
      ],
      "text/plain": [
       "                    model  train_accuracy  valid_accuracy  test_accuracy  \\\n",
       "0                     SVC        0.912664        0.575163       0.581699   \n",
       "1               LinearSVC        0.788210        0.790850       0.810458   \n",
       "2    KNeighborsClassifier        0.713974        0.686275       0.660131   \n",
       "3              GaussianNB        0.779476        0.647059       0.823529   \n",
       "4              Perceptron        0.576419        0.627451       0.588235   \n",
       "5           SGDClassifier        0.615721        0.614379       0.666667   \n",
       "6  DecisionTreeClassifier        0.879913        0.810458       0.836601   \n",
       "7  RandomForestClassifier        0.864629        0.836601       0.843137   \n",
       "\n",
       "   mean_accuracy  \n",
       "0       0.689842  \n",
       "1       0.796506  \n",
       "2       0.686793  \n",
       "3       0.750021  \n",
       "4       0.597368  \n",
       "5       0.632255  \n",
       "6       0.842324  \n",
       "7       0.848122  "
      ]
     },
     "execution_count": 42,
     "metadata": {},
     "output_type": "execute_result"
    }
   ],
   "source": [
    "results"
   ]
  },
  {
   "cell_type": "code",
   "execution_count": 43,
   "metadata": {},
   "outputs": [
    {
     "data": {
      "text/html": [
       "<div>\n",
       "<style scoped>\n",
       "    .dataframe tbody tr th:only-of-type {\n",
       "        vertical-align: middle;\n",
       "    }\n",
       "\n",
       "    .dataframe tbody tr th {\n",
       "        vertical-align: top;\n",
       "    }\n",
       "\n",
       "    .dataframe thead th {\n",
       "        text-align: right;\n",
       "    }\n",
       "</style>\n",
       "<table border=\"1\" class=\"dataframe\">\n",
       "  <thead>\n",
       "    <tr style=\"text-align: right;\">\n",
       "      <th></th>\n",
       "      <th>model</th>\n",
       "      <th>train_accuracy</th>\n",
       "      <th>valid_accuracy</th>\n",
       "      <th>test_accuracy</th>\n",
       "      <th>mean_accuracy</th>\n",
       "    </tr>\n",
       "  </thead>\n",
       "  <tbody>\n",
       "    <tr>\n",
       "      <th>0</th>\n",
       "      <td>SVC</td>\n",
       "      <td>0.912664</td>\n",
       "      <td>0.575163</td>\n",
       "      <td>0.581699</td>\n",
       "      <td>0.689842</td>\n",
       "    </tr>\n",
       "    <tr>\n",
       "      <th>6</th>\n",
       "      <td>DecisionTreeClassifier</td>\n",
       "      <td>0.879913</td>\n",
       "      <td>0.810458</td>\n",
       "      <td>0.836601</td>\n",
       "      <td>0.842324</td>\n",
       "    </tr>\n",
       "    <tr>\n",
       "      <th>7</th>\n",
       "      <td>RandomForestClassifier</td>\n",
       "      <td>0.864629</td>\n",
       "      <td>0.836601</td>\n",
       "      <td>0.843137</td>\n",
       "      <td>0.848122</td>\n",
       "    </tr>\n",
       "    <tr>\n",
       "      <th>1</th>\n",
       "      <td>LinearSVC</td>\n",
       "      <td>0.788210</td>\n",
       "      <td>0.790850</td>\n",
       "      <td>0.810458</td>\n",
       "      <td>0.796506</td>\n",
       "    </tr>\n",
       "    <tr>\n",
       "      <th>3</th>\n",
       "      <td>GaussianNB</td>\n",
       "      <td>0.779476</td>\n",
       "      <td>0.647059</td>\n",
       "      <td>0.823529</td>\n",
       "      <td>0.750021</td>\n",
       "    </tr>\n",
       "    <tr>\n",
       "      <th>2</th>\n",
       "      <td>KNeighborsClassifier</td>\n",
       "      <td>0.713974</td>\n",
       "      <td>0.686275</td>\n",
       "      <td>0.660131</td>\n",
       "      <td>0.686793</td>\n",
       "    </tr>\n",
       "    <tr>\n",
       "      <th>5</th>\n",
       "      <td>SGDClassifier</td>\n",
       "      <td>0.615721</td>\n",
       "      <td>0.614379</td>\n",
       "      <td>0.666667</td>\n",
       "      <td>0.632255</td>\n",
       "    </tr>\n",
       "    <tr>\n",
       "      <th>4</th>\n",
       "      <td>Perceptron</td>\n",
       "      <td>0.576419</td>\n",
       "      <td>0.627451</td>\n",
       "      <td>0.588235</td>\n",
       "      <td>0.597368</td>\n",
       "    </tr>\n",
       "  </tbody>\n",
       "</table>\n",
       "</div>"
      ],
      "text/plain": [
       "                    model  train_accuracy  valid_accuracy  test_accuracy  \\\n",
       "0                     SVC        0.912664        0.575163       0.581699   \n",
       "6  DecisionTreeClassifier        0.879913        0.810458       0.836601   \n",
       "7  RandomForestClassifier        0.864629        0.836601       0.843137   \n",
       "1               LinearSVC        0.788210        0.790850       0.810458   \n",
       "3              GaussianNB        0.779476        0.647059       0.823529   \n",
       "2    KNeighborsClassifier        0.713974        0.686275       0.660131   \n",
       "5           SGDClassifier        0.615721        0.614379       0.666667   \n",
       "4              Perceptron        0.576419        0.627451       0.588235   \n",
       "\n",
       "   mean_accuracy  \n",
       "0       0.689842  \n",
       "6       0.842324  \n",
       "7       0.848122  \n",
       "1       0.796506  \n",
       "3       0.750021  \n",
       "2       0.686793  \n",
       "5       0.632255  \n",
       "4       0.597368  "
      ]
     },
     "execution_count": 43,
     "metadata": {},
     "output_type": "execute_result"
    }
   ],
   "source": [
    "results.sort_values(by=['train_accuracy'], ascending=False)"
   ]
  },
  {
   "cell_type": "code",
   "execution_count": 44,
   "metadata": {},
   "outputs": [
    {
     "data": {
      "text/html": [
       "<div>\n",
       "<style scoped>\n",
       "    .dataframe tbody tr th:only-of-type {\n",
       "        vertical-align: middle;\n",
       "    }\n",
       "\n",
       "    .dataframe tbody tr th {\n",
       "        vertical-align: top;\n",
       "    }\n",
       "\n",
       "    .dataframe thead th {\n",
       "        text-align: right;\n",
       "    }\n",
       "</style>\n",
       "<table border=\"1\" class=\"dataframe\">\n",
       "  <thead>\n",
       "    <tr style=\"text-align: right;\">\n",
       "      <th></th>\n",
       "      <th>model</th>\n",
       "      <th>train_accuracy</th>\n",
       "      <th>valid_accuracy</th>\n",
       "      <th>test_accuracy</th>\n",
       "      <th>mean_accuracy</th>\n",
       "    </tr>\n",
       "  </thead>\n",
       "  <tbody>\n",
       "    <tr>\n",
       "      <th>7</th>\n",
       "      <td>RandomForestClassifier</td>\n",
       "      <td>0.864629</td>\n",
       "      <td>0.836601</td>\n",
       "      <td>0.843137</td>\n",
       "      <td>0.848122</td>\n",
       "    </tr>\n",
       "    <tr>\n",
       "      <th>6</th>\n",
       "      <td>DecisionTreeClassifier</td>\n",
       "      <td>0.879913</td>\n",
       "      <td>0.810458</td>\n",
       "      <td>0.836601</td>\n",
       "      <td>0.842324</td>\n",
       "    </tr>\n",
       "    <tr>\n",
       "      <th>1</th>\n",
       "      <td>LinearSVC</td>\n",
       "      <td>0.788210</td>\n",
       "      <td>0.790850</td>\n",
       "      <td>0.810458</td>\n",
       "      <td>0.796506</td>\n",
       "    </tr>\n",
       "    <tr>\n",
       "      <th>2</th>\n",
       "      <td>KNeighborsClassifier</td>\n",
       "      <td>0.713974</td>\n",
       "      <td>0.686275</td>\n",
       "      <td>0.660131</td>\n",
       "      <td>0.686793</td>\n",
       "    </tr>\n",
       "    <tr>\n",
       "      <th>3</th>\n",
       "      <td>GaussianNB</td>\n",
       "      <td>0.779476</td>\n",
       "      <td>0.647059</td>\n",
       "      <td>0.823529</td>\n",
       "      <td>0.750021</td>\n",
       "    </tr>\n",
       "    <tr>\n",
       "      <th>4</th>\n",
       "      <td>Perceptron</td>\n",
       "      <td>0.576419</td>\n",
       "      <td>0.627451</td>\n",
       "      <td>0.588235</td>\n",
       "      <td>0.597368</td>\n",
       "    </tr>\n",
       "    <tr>\n",
       "      <th>5</th>\n",
       "      <td>SGDClassifier</td>\n",
       "      <td>0.615721</td>\n",
       "      <td>0.614379</td>\n",
       "      <td>0.666667</td>\n",
       "      <td>0.632255</td>\n",
       "    </tr>\n",
       "    <tr>\n",
       "      <th>0</th>\n",
       "      <td>SVC</td>\n",
       "      <td>0.912664</td>\n",
       "      <td>0.575163</td>\n",
       "      <td>0.581699</td>\n",
       "      <td>0.689842</td>\n",
       "    </tr>\n",
       "  </tbody>\n",
       "</table>\n",
       "</div>"
      ],
      "text/plain": [
       "                    model  train_accuracy  valid_accuracy  test_accuracy  \\\n",
       "7  RandomForestClassifier        0.864629        0.836601       0.843137   \n",
       "6  DecisionTreeClassifier        0.879913        0.810458       0.836601   \n",
       "1               LinearSVC        0.788210        0.790850       0.810458   \n",
       "2    KNeighborsClassifier        0.713974        0.686275       0.660131   \n",
       "3              GaussianNB        0.779476        0.647059       0.823529   \n",
       "4              Perceptron        0.576419        0.627451       0.588235   \n",
       "5           SGDClassifier        0.615721        0.614379       0.666667   \n",
       "0                     SVC        0.912664        0.575163       0.581699   \n",
       "\n",
       "   mean_accuracy  \n",
       "7       0.848122  \n",
       "6       0.842324  \n",
       "1       0.796506  \n",
       "2       0.686793  \n",
       "3       0.750021  \n",
       "4       0.597368  \n",
       "5       0.632255  \n",
       "0       0.689842  "
      ]
     },
     "execution_count": 44,
     "metadata": {},
     "output_type": "execute_result"
    }
   ],
   "source": [
    "results.sort_values(by=['valid_accuracy'], ascending=False)"
   ]
  },
  {
   "cell_type": "code",
   "execution_count": 45,
   "metadata": {},
   "outputs": [
    {
     "data": {
      "text/html": [
       "<div>\n",
       "<style scoped>\n",
       "    .dataframe tbody tr th:only-of-type {\n",
       "        vertical-align: middle;\n",
       "    }\n",
       "\n",
       "    .dataframe tbody tr th {\n",
       "        vertical-align: top;\n",
       "    }\n",
       "\n",
       "    .dataframe thead th {\n",
       "        text-align: right;\n",
       "    }\n",
       "</style>\n",
       "<table border=\"1\" class=\"dataframe\">\n",
       "  <thead>\n",
       "    <tr style=\"text-align: right;\">\n",
       "      <th></th>\n",
       "      <th>model</th>\n",
       "      <th>train_accuracy</th>\n",
       "      <th>valid_accuracy</th>\n",
       "      <th>test_accuracy</th>\n",
       "      <th>mean_accuracy</th>\n",
       "    </tr>\n",
       "  </thead>\n",
       "  <tbody>\n",
       "    <tr>\n",
       "      <th>7</th>\n",
       "      <td>RandomForestClassifier</td>\n",
       "      <td>0.864629</td>\n",
       "      <td>0.836601</td>\n",
       "      <td>0.843137</td>\n",
       "      <td>0.848122</td>\n",
       "    </tr>\n",
       "    <tr>\n",
       "      <th>6</th>\n",
       "      <td>DecisionTreeClassifier</td>\n",
       "      <td>0.879913</td>\n",
       "      <td>0.810458</td>\n",
       "      <td>0.836601</td>\n",
       "      <td>0.842324</td>\n",
       "    </tr>\n",
       "    <tr>\n",
       "      <th>3</th>\n",
       "      <td>GaussianNB</td>\n",
       "      <td>0.779476</td>\n",
       "      <td>0.647059</td>\n",
       "      <td>0.823529</td>\n",
       "      <td>0.750021</td>\n",
       "    </tr>\n",
       "    <tr>\n",
       "      <th>1</th>\n",
       "      <td>LinearSVC</td>\n",
       "      <td>0.788210</td>\n",
       "      <td>0.790850</td>\n",
       "      <td>0.810458</td>\n",
       "      <td>0.796506</td>\n",
       "    </tr>\n",
       "    <tr>\n",
       "      <th>5</th>\n",
       "      <td>SGDClassifier</td>\n",
       "      <td>0.615721</td>\n",
       "      <td>0.614379</td>\n",
       "      <td>0.666667</td>\n",
       "      <td>0.632255</td>\n",
       "    </tr>\n",
       "    <tr>\n",
       "      <th>2</th>\n",
       "      <td>KNeighborsClassifier</td>\n",
       "      <td>0.713974</td>\n",
       "      <td>0.686275</td>\n",
       "      <td>0.660131</td>\n",
       "      <td>0.686793</td>\n",
       "    </tr>\n",
       "    <tr>\n",
       "      <th>4</th>\n",
       "      <td>Perceptron</td>\n",
       "      <td>0.576419</td>\n",
       "      <td>0.627451</td>\n",
       "      <td>0.588235</td>\n",
       "      <td>0.597368</td>\n",
       "    </tr>\n",
       "    <tr>\n",
       "      <th>0</th>\n",
       "      <td>SVC</td>\n",
       "      <td>0.912664</td>\n",
       "      <td>0.575163</td>\n",
       "      <td>0.581699</td>\n",
       "      <td>0.689842</td>\n",
       "    </tr>\n",
       "  </tbody>\n",
       "</table>\n",
       "</div>"
      ],
      "text/plain": [
       "                    model  train_accuracy  valid_accuracy  test_accuracy  \\\n",
       "7  RandomForestClassifier        0.864629        0.836601       0.843137   \n",
       "6  DecisionTreeClassifier        0.879913        0.810458       0.836601   \n",
       "3              GaussianNB        0.779476        0.647059       0.823529   \n",
       "1               LinearSVC        0.788210        0.790850       0.810458   \n",
       "5           SGDClassifier        0.615721        0.614379       0.666667   \n",
       "2    KNeighborsClassifier        0.713974        0.686275       0.660131   \n",
       "4              Perceptron        0.576419        0.627451       0.588235   \n",
       "0                     SVC        0.912664        0.575163       0.581699   \n",
       "\n",
       "   mean_accuracy  \n",
       "7       0.848122  \n",
       "6       0.842324  \n",
       "3       0.750021  \n",
       "1       0.796506  \n",
       "5       0.632255  \n",
       "2       0.686793  \n",
       "4       0.597368  \n",
       "0       0.689842  "
      ]
     },
     "execution_count": 45,
     "metadata": {},
     "output_type": "execute_result"
    }
   ],
   "source": [
    "results.sort_values(by=['test_accuracy'], ascending=False)"
   ]
  },
  {
   "cell_type": "code",
   "execution_count": 46,
   "metadata": {},
   "outputs": [
    {
     "data": {
      "text/html": [
       "<div>\n",
       "<style scoped>\n",
       "    .dataframe tbody tr th:only-of-type {\n",
       "        vertical-align: middle;\n",
       "    }\n",
       "\n",
       "    .dataframe tbody tr th {\n",
       "        vertical-align: top;\n",
       "    }\n",
       "\n",
       "    .dataframe thead th {\n",
       "        text-align: right;\n",
       "    }\n",
       "</style>\n",
       "<table border=\"1\" class=\"dataframe\">\n",
       "  <thead>\n",
       "    <tr style=\"text-align: right;\">\n",
       "      <th></th>\n",
       "      <th>model</th>\n",
       "      <th>train_accuracy</th>\n",
       "      <th>valid_accuracy</th>\n",
       "      <th>test_accuracy</th>\n",
       "      <th>mean_accuracy</th>\n",
       "    </tr>\n",
       "  </thead>\n",
       "  <tbody>\n",
       "    <tr>\n",
       "      <th>7</th>\n",
       "      <td>RandomForestClassifier</td>\n",
       "      <td>0.864629</td>\n",
       "      <td>0.836601</td>\n",
       "      <td>0.843137</td>\n",
       "      <td>0.848122</td>\n",
       "    </tr>\n",
       "    <tr>\n",
       "      <th>6</th>\n",
       "      <td>DecisionTreeClassifier</td>\n",
       "      <td>0.879913</td>\n",
       "      <td>0.810458</td>\n",
       "      <td>0.836601</td>\n",
       "      <td>0.842324</td>\n",
       "    </tr>\n",
       "    <tr>\n",
       "      <th>1</th>\n",
       "      <td>LinearSVC</td>\n",
       "      <td>0.788210</td>\n",
       "      <td>0.790850</td>\n",
       "      <td>0.810458</td>\n",
       "      <td>0.796506</td>\n",
       "    </tr>\n",
       "    <tr>\n",
       "      <th>3</th>\n",
       "      <td>GaussianNB</td>\n",
       "      <td>0.779476</td>\n",
       "      <td>0.647059</td>\n",
       "      <td>0.823529</td>\n",
       "      <td>0.750021</td>\n",
       "    </tr>\n",
       "    <tr>\n",
       "      <th>0</th>\n",
       "      <td>SVC</td>\n",
       "      <td>0.912664</td>\n",
       "      <td>0.575163</td>\n",
       "      <td>0.581699</td>\n",
       "      <td>0.689842</td>\n",
       "    </tr>\n",
       "    <tr>\n",
       "      <th>2</th>\n",
       "      <td>KNeighborsClassifier</td>\n",
       "      <td>0.713974</td>\n",
       "      <td>0.686275</td>\n",
       "      <td>0.660131</td>\n",
       "      <td>0.686793</td>\n",
       "    </tr>\n",
       "    <tr>\n",
       "      <th>5</th>\n",
       "      <td>SGDClassifier</td>\n",
       "      <td>0.615721</td>\n",
       "      <td>0.614379</td>\n",
       "      <td>0.666667</td>\n",
       "      <td>0.632255</td>\n",
       "    </tr>\n",
       "    <tr>\n",
       "      <th>4</th>\n",
       "      <td>Perceptron</td>\n",
       "      <td>0.576419</td>\n",
       "      <td>0.627451</td>\n",
       "      <td>0.588235</td>\n",
       "      <td>0.597368</td>\n",
       "    </tr>\n",
       "  </tbody>\n",
       "</table>\n",
       "</div>"
      ],
      "text/plain": [
       "                    model  train_accuracy  valid_accuracy  test_accuracy  \\\n",
       "7  RandomForestClassifier        0.864629        0.836601       0.843137   \n",
       "6  DecisionTreeClassifier        0.879913        0.810458       0.836601   \n",
       "1               LinearSVC        0.788210        0.790850       0.810458   \n",
       "3              GaussianNB        0.779476        0.647059       0.823529   \n",
       "0                     SVC        0.912664        0.575163       0.581699   \n",
       "2    KNeighborsClassifier        0.713974        0.686275       0.660131   \n",
       "5           SGDClassifier        0.615721        0.614379       0.666667   \n",
       "4              Perceptron        0.576419        0.627451       0.588235   \n",
       "\n",
       "   mean_accuracy  \n",
       "7       0.848122  \n",
       "6       0.842324  \n",
       "1       0.796506  \n",
       "3       0.750021  \n",
       "0       0.689842  \n",
       "2       0.686793  \n",
       "5       0.632255  \n",
       "4       0.597368  "
      ]
     },
     "execution_count": 46,
     "metadata": {},
     "output_type": "execute_result"
    }
   ],
   "source": [
    "results.sort_values(by=['mean_accuracy'], ascending=False)"
   ]
  },
  {
   "cell_type": "markdown",
   "metadata": {},
   "source": [
    "### Вывод"
   ]
  },
  {
   "cell_type": "markdown",
   "metadata": {},
   "source": [
    "Наиболее эффективными по точности на небольшом количестве значений оказались модели ***Дерева решений***, ***Случайного леса***, ***Линейной машины опорных векторов*** и ***Наивного байесовского классификатора*** "
   ]
  },
  {
   "cell_type": "code",
   "execution_count": null,
   "metadata": {},
   "outputs": [],
   "source": []
  }
 ],
 "metadata": {
  "kernelspec": {
   "display_name": "Python 3",
   "language": "python",
   "name": "python3"
  },
  "language_info": {
   "codemirror_mode": {
    "name": "ipython",
    "version": 3
   },
   "file_extension": ".py",
   "mimetype": "text/x-python",
   "name": "python",
   "nbconvert_exporter": "python",
   "pygments_lexer": "ipython3",
   "version": "3.7.3"
  }
 },
 "nbformat": 4,
 "nbformat_minor": 2
}
