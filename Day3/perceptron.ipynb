{
 "metadata": {
  "language_info": {
   "codemirror_mode": {
    "name": "ipython",
    "version": 3
   },
   "file_extension": ".py",
   "mimetype": "text/x-python",
   "name": "python",
   "nbconvert_exporter": "python",
   "pygments_lexer": "ipython3",
   "version": "3.8.1-final"
  },
  "orig_nbformat": 2,
  "kernelspec": {
   "name": "python3",
   "display_name": "Python 3"
  }
 },
 "nbformat": 4,
 "nbformat_minor": 2,
 "cells": [
  {
   "source": [
    "# Многослойный перцептрон с помощью scikit-learn"
   ],
   "cell_type": "markdown",
   "metadata": {}
  },
  {
   "cell_type": "code",
   "execution_count": 1,
   "metadata": {},
   "outputs": [],
   "source": [
    "import pandas as pd\n",
    "import numpy as np\n",
    "import random as rn\n",
    "import matplotlib.pyplot as plt"
   ]
  },
  {
   "cell_type": "code",
   "execution_count": 2,
   "metadata": {},
   "outputs": [],
   "source": [
    "np.random.seed(42) # fix rng\n"
   ]
  },
  {
   "cell_type": "code",
   "execution_count": 4,
   "metadata": {},
   "outputs": [
    {
     "output_type": "execute_result",
     "data": {
      "text/plain": [
       "   Unnamed: 0  index  Longevity  Education  Sex  Age  Pet  Children  Activity  \\\n",
       "0         647    814          0          3    0   74    0         0       805   \n",
       "1         336    421          0          3    0   73    0         0       773   \n",
       "2          63     83          0          1    0   74    0         0      4710   \n",
       "3         367    460          1          1    0   76    0         0      2655   \n",
       "4         101    129          0          3    0   76    0         0       698   \n",
       "\n",
       "   Sport  Family  IsAlone  Age_range  Social_status  \n",
       "0      0       0        1          3              9  \n",
       "1      0       0        1          3              9  \n",
       "2      0       0        1          3              3  \n",
       "3      0       0        1          4              4  \n",
       "4      0       0        1          4             12  "
      ],
      "text/html": "<div>\n<style scoped>\n    .dataframe tbody tr th:only-of-type {\n        vertical-align: middle;\n    }\n\n    .dataframe tbody tr th {\n        vertical-align: top;\n    }\n\n    .dataframe thead th {\n        text-align: right;\n    }\n</style>\n<table border=\"1\" class=\"dataframe\">\n  <thead>\n    <tr style=\"text-align: right;\">\n      <th></th>\n      <th>Unnamed: 0</th>\n      <th>index</th>\n      <th>Longevity</th>\n      <th>Education</th>\n      <th>Sex</th>\n      <th>Age</th>\n      <th>Pet</th>\n      <th>Children</th>\n      <th>Activity</th>\n      <th>Sport</th>\n      <th>Family</th>\n      <th>IsAlone</th>\n      <th>Age_range</th>\n      <th>Social_status</th>\n    </tr>\n  </thead>\n  <tbody>\n    <tr>\n      <th>0</th>\n      <td>647</td>\n      <td>814</td>\n      <td>0</td>\n      <td>3</td>\n      <td>0</td>\n      <td>74</td>\n      <td>0</td>\n      <td>0</td>\n      <td>805</td>\n      <td>0</td>\n      <td>0</td>\n      <td>1</td>\n      <td>3</td>\n      <td>9</td>\n    </tr>\n    <tr>\n      <th>1</th>\n      <td>336</td>\n      <td>421</td>\n      <td>0</td>\n      <td>3</td>\n      <td>0</td>\n      <td>73</td>\n      <td>0</td>\n      <td>0</td>\n      <td>773</td>\n      <td>0</td>\n      <td>0</td>\n      <td>1</td>\n      <td>3</td>\n      <td>9</td>\n    </tr>\n    <tr>\n      <th>2</th>\n      <td>63</td>\n      <td>83</td>\n      <td>0</td>\n      <td>1</td>\n      <td>0</td>\n      <td>74</td>\n      <td>0</td>\n      <td>0</td>\n      <td>4710</td>\n      <td>0</td>\n      <td>0</td>\n      <td>1</td>\n      <td>3</td>\n      <td>3</td>\n    </tr>\n    <tr>\n      <th>3</th>\n      <td>367</td>\n      <td>460</td>\n      <td>1</td>\n      <td>1</td>\n      <td>0</td>\n      <td>76</td>\n      <td>0</td>\n      <td>0</td>\n      <td>2655</td>\n      <td>0</td>\n      <td>0</td>\n      <td>1</td>\n      <td>4</td>\n      <td>4</td>\n    </tr>\n    <tr>\n      <th>4</th>\n      <td>101</td>\n      <td>129</td>\n      <td>0</td>\n      <td>3</td>\n      <td>0</td>\n      <td>76</td>\n      <td>0</td>\n      <td>0</td>\n      <td>698</td>\n      <td>0</td>\n      <td>0</td>\n      <td>1</td>\n      <td>4</td>\n      <td>12</td>\n    </tr>\n  </tbody>\n</table>\n</div>"
     },
     "metadata": {},
     "execution_count": 4
    }
   ],
   "source": [
    "train_df = pd.read_csv('Day2_df.csv')\n",
    "train_df = train_df.sample(frac = 1, random_state = 42) # shuffle data\n",
    "# drop index\n",
    "train_df = train_df.reset_index(drop = True)\n",
    "# change to numeral values\n",
    "train_df[\"Sex\"] = train_df[\"Sex\"].astype('category').cat.codes\n",
    "train_df[\"IsAlone\"] = train_df[\"IsAlone\"].astype('category').cat.codes\n",
    "\n",
    "train_df.head()"
   ]
  },
  {
   "source": [
    "Построить и применить модель Персепторона (Perceptron)"
   ],
   "cell_type": "markdown",
   "metadata": {}
  },
  {
   "cell_type": "code",
   "execution_count": 5,
   "metadata": {},
   "outputs": [
    {
     "output_type": "stream",
     "name": "stdout",
     "text": [
      "train shape: X (500, 5) Y (500,)\ntest  shape: X (179, 5) Y (179,)\n"
     ]
    }
   ],
   "source": [
    "size = 500\n",
    "# train dataset\n",
    "#x_train = train_df[['Education', 'Sex', 'Age', 'Family', 'Activity', 'IsAlone', 'Social_status']][:size].values\n",
    "#y_train = train_df['Longevity'][:size].values\n",
    "# test dataset\n",
    "#x_test = train_df[['Education', 'Sex', 'Age', 'Family', 'Activity', 'IsAlone', 'Social_status']][size:].values\n",
    "#y_test = train_df['Longevity'][size:].values\n",
    "\n",
    "# train dataset\n",
    "x_train = train_df[['Education', 'Sex', 'Activity', 'IsAlone', 'Social_status']][:size].values\n",
    "y_train = train_df['Longevity'][:size].values\n",
    "# test dataset\n",
    "x_test = train_df[['Education', 'Sex', 'Activity', 'IsAlone', 'Social_status']][size:].values\n",
    "y_test = train_df['Longevity'][size:].values\n",
    "\n",
    "print(\"train shape: X {} Y {}\".format(x_train.shape, y_train.shape))\n",
    "print(\"test  shape: X {} Y {}\".format(x_test.shape, y_test.shape))"
   ]
  },
  {
   "source": [
    "Визуализация данных"
   ],
   "cell_type": "markdown",
   "metadata": {}
  },
  {
   "cell_type": "code",
   "execution_count": 6,
   "metadata": {},
   "outputs": [
    {
     "output_type": "error",
     "ename": "NameError",
     "evalue": "name 'cat_mas' is not defined",
     "traceback": [
      "\u001b[0;31m---------------------------------------------------------------------------\u001b[0m",
      "\u001b[0;31mNameError\u001b[0m                                 Traceback (most recent call last)",
      "\u001b[0;32m<ipython-input-6-c4c3ce9df21b>\u001b[0m in \u001b[0;36m<module>\u001b[0;34m\u001b[0m\n\u001b[1;32m      1\u001b[0m \u001b[0;31m# set categories names as a list, take two indexes to plot\u001b[0m\u001b[0;34m\u001b[0m\u001b[0;34m\u001b[0m\u001b[0;34m\u001b[0m\u001b[0m\n\u001b[1;32m      2\u001b[0m \u001b[0;31m#cat_mas = ['Education', 'Sex', 'Age', 'Family', 'Activity', 'IsAlone', 'Social_status']\u001b[0m\u001b[0;34m\u001b[0m\u001b[0;34m\u001b[0m\u001b[0;34m\u001b[0m\u001b[0m\n\u001b[0;32m----> 3\u001b[0;31m \u001b[0mcat_mas\u001b[0m\u001b[0;34m[\u001b[0m\u001b[0;34m'Education'\u001b[0m\u001b[0;34m,\u001b[0m \u001b[0;34m'Sex'\u001b[0m\u001b[0;34m,\u001b[0m \u001b[0;34m'Activity'\u001b[0m\u001b[0;34m,\u001b[0m \u001b[0;34m'IsAlone'\u001b[0m\u001b[0;34m,\u001b[0m \u001b[0;34m'Social_status'\u001b[0m\u001b[0;34m]\u001b[0m\u001b[0;34m\u001b[0m\u001b[0;34m\u001b[0m\u001b[0m\n\u001b[0m\u001b[1;32m      4\u001b[0m \u001b[0mcat_one_index\u001b[0m \u001b[0;34m=\u001b[0m \u001b[0mcat_mas\u001b[0m\u001b[0;34m.\u001b[0m\u001b[0mindex\u001b[0m\u001b[0;34m(\u001b[0m\u001b[0;34m'Social_status'\u001b[0m\u001b[0;34m)\u001b[0m\u001b[0;34m\u001b[0m\u001b[0;34m\u001b[0m\u001b[0m\n\u001b[1;32m      5\u001b[0m \u001b[0mcat_two_index\u001b[0m \u001b[0;34m=\u001b[0m \u001b[0mcat_mas\u001b[0m\u001b[0;34m.\u001b[0m\u001b[0mindex\u001b[0m\u001b[0;34m(\u001b[0m\u001b[0;34m'Activity'\u001b[0m\u001b[0;34m)\u001b[0m\u001b[0;34m\u001b[0m\u001b[0;34m\u001b[0m\u001b[0m\n",
      "\u001b[0;31mNameError\u001b[0m: name 'cat_mas' is not defined"
     ]
    }
   ],
   "source": [
    "# set categories names as a list, take two indexes to plot\n",
    "#cat_mas = ['Education', 'Sex', 'Age', 'Family', 'Activity', 'IsAlone', 'Social_status']\n",
    "cat_mas = ['Education', 'Sex', 'Activity', 'IsAlone', 'Social_status']\n",
    "cat_one_index = cat_mas.index('Social_status')\n",
    "cat_two_index = cat_mas.index('Activity')\n",
    "\n",
    "plt.plot(x_train[y_train == 0][:, cat_one_index], x_train[y_train == 0][:, cat_two_index], 'rx', label = 'Train - Longvity False')\n",
    "plt.plot(x_train[y_train == 1][:, cat_one_index], x_train[y_train == 1][:, cat_two_index], 'bx', label = 'Train - Longvity True')\n",
    "\n",
    "plt.xlabel(cat_mas[cat_one_index])\n",
    "plt.ylabel(cat_mas[cat_two_index])\n",
    "plt.legend()\n",
    "plt.show()\n"
   ]
  },
  {
   "source": [
    "Создание и тренировка модели"
   ],
   "cell_type": "markdown",
   "metadata": {}
  },
  {
   "cell_type": "code",
   "execution_count": null,
   "metadata": {},
   "outputs": [],
   "source": [
    "from sklearn.neural_network import MLPClassifier"
   ]
  },
  {
   "cell_type": "code",
   "execution_count": 22,
   "metadata": {},
   "outputs": [
    {
     "output_type": "stream",
     "name": "stdout",
     "text": [
      "Train score: 0.648\nTest  score: 0.664804469273743\n"
     ]
    }
   ],
   "source": [
    "model = MLPClassifier(random_state = 42)\n",
    "model.fit(x_train, y_train)\n",
    "\n",
    "print('Train score: {}'.format(model.score(x_train, y_train)))\n",
    "print('Test  score: {}'.format(model.score(x_test,  y_test)))"
   ]
  }
 ]
}