{
 "metadata": {
  "language_info": {
   "codemirror_mode": {
    "name": "ipython",
    "version": 3
   },
   "file_extension": ".py",
   "mimetype": "text/x-python",
   "name": "python",
   "nbconvert_exporter": "python",
   "pygments_lexer": "ipython3",
   "version": "3.8.1-final"
  },
  "orig_nbformat": 2,
  "kernelspec": {
   "name": "python3",
   "display_name": "Python 3"
  }
 },
 "nbformat": 4,
 "nbformat_minor": 2,
 "cells": [
  {
   "source": [
    "# Многослойный перцептрон с помощью scikit-learn"
   ],
   "cell_type": "markdown",
   "metadata": {}
  },
  {
   "cell_type": "code",
   "execution_count": null,
   "metadata": {},
   "outputs": [],
   "source": [
    "import pandas as pd\n",
    "import numpy as np\n",
    "import random as rn\n",
    "import matplotlib.pyplot as plt"
   ]
  },
  {
   "cell_type": "code",
   "execution_count": null,
   "metadata": {},
   "outputs": [],
   "source": [
    "np.random.seed(42) # fix rng\n"
   ]
  },
  {
   "cell_type": "code",
   "execution_count": null,
   "metadata": {},
   "outputs": [],
   "source": [
    "train_df = pd.read_csv('Day2_df.csv')\n",
    "train_df = train_df.sample(frac = 1, random_state = 42) # shuffle data\n",
    "# drop index\n",
    "train_df = train_df.reset_index(drop = True)\n",
    "# change to numeral values\n",
    "train_df[\"Sex\"] = train_df[\"Sex\"].astype('category').cat.codes\n",
    "train_df[\"IsAlone\"] = train_df[\"IsAlone\"].astype('category').cat.codes\n",
    "\n",
    "test_df.head()"
   ]
  },
  {
   "source": [
    "Построить и применить модель Персепторона (Perceptron)"
   ],
   "cell_type": "markdown",
   "metadata": {}
  },
  {
   "cell_type": "code",
   "execution_count": null,
   "metadata": {},
   "outputs": [],
   "source": [
    "size = 500\n",
    "# train dataset\n",
    "x_train = train_df[['Education', 'Sex', 'Age', 'Family', 'Activity', 'IsAlone', 'Social_status']][:size].values\n",
    "y_train = train_df['Longevity'][:size].values\n",
    "# test dataset\n",
    "x_test = train_df[['Education', 'Sex', 'Age', 'Family', 'Activity', 'IsAlone', 'Social_status']][size:].values\n",
    "y_test = train_df['Longevity'][size:].values\n",
    "\n",
    "print(\"train shape: X {} Y {}\".format(x_train.shape, y_train.shape))\n",
    "print(\"test  shape: X {} Y {}\".format(x_test.shape, y_test.shape))"
   ]
  },
  {
   "source": [
    "Визуализация данных"
   ],
   "cell_type": "markdown",
   "metadata": {}
  },
  {
   "cell_type": "code",
   "execution_count": null,
   "metadata": {},
   "outputs": [],
   "source": [
    "# set categories names as a list, take two indexes to plot\n",
    "cat_mas = ['Education', 'Sex', 'Age', 'Family', 'Activity', 'IsAlone', 'Social_status']\n",
    "cat_one_index = cat_mas.index('Age')\n",
    "cat_two_index = cat_mas.index('Activity')\n",
    "\n",
    "plt.plot(x_train[y_train == 0][:, cat_one_index], x_train[y_train == 0][:, cat_two_index], 'rx', label = 'Train - Longvity False')\n",
    "plt.plot(x_train[y_train == 1][:, cat_one_index], x_train[y_train == 1][:, cat_two_index], 'bx', label = 'Train - Longvity True')\n",
    "\n",
    "plt.xlabel(cat_mas[cat_one_index])\n",
    "plt.ylabel(cat_mas[cat_two_index])\n",
    "plt.legend()\n",
    "plt.show()\n"
   ]
  },
  {
   "source": [
    "Создание и тренировка модели"
   ],
   "cell_type": "markdown",
   "metadata": {}
  },
  {
   "cell_type": "code",
   "execution_count": null,
   "metadata": {},
   "outputs": [],
   "source": [
    "from sklearn.neural_network import MLPClassifier"
   ]
  },
  {
   "cell_type": "code",
   "execution_count": null,
   "metadata": {},
   "outputs": [],
   "source": [
    "model = MLPClassifier(random_state = 42)\n",
    "model.fit(x_train, y_train)\n",
    "\n",
    "print('Train score: {}'.format(model.score(x_train, y_train)))\n",
    "print('Test  score: {}'.format(model.score(x_test,  y_test)))"
   ]
  }
 ]
}